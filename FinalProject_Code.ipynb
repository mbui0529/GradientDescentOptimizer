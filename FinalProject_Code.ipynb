{
  "nbformat": 4,
  "nbformat_minor": 0,
  "metadata": {
    "kernelspec": {
      "name": "python3",
      "display_name": "Python 3"
    },
    "language_info": {
      "codemirror_mode": {
        "name": "ipython",
        "version": 3
      },
      "file_extension": ".py",
      "mimetype": "text/x-python",
      "name": "python",
      "nbconvert_exporter": "python",
      "pygments_lexer": "ipython3",
      "version": "3.6.8"
    },
    "colab": {
      "name": "FinalProject_Code.ipynb",
      "provenance": [],
      "collapsed_sections": [],
      "include_colab_link": true
    },
    "accelerator": "GPU",
    "widgets": {
      "application/vnd.jupyter.widget-state+json": {
        "37867e83586644f38dfb80c501e4e6ab": {
          "model_module": "@jupyter-widgets/controls",
          "model_name": "HBoxModel",
          "state": {
            "_view_name": "HBoxView",
            "_dom_classes": [],
            "_model_name": "HBoxModel",
            "_view_module": "@jupyter-widgets/controls",
            "_model_module_version": "1.5.0",
            "_view_count": null,
            "_view_module_version": "1.5.0",
            "box_style": "",
            "layout": "IPY_MODEL_de1d6c8d11844f5097855c9b795c87b5",
            "_model_module": "@jupyter-widgets/controls",
            "children": [
              "IPY_MODEL_25dc3523c9684cbf9643a1081d1ef64f",
              "IPY_MODEL_a60b24139eb244fc9ba8eab0daccfaaf"
            ]
          }
        },
        "de1d6c8d11844f5097855c9b795c87b5": {
          "model_module": "@jupyter-widgets/base",
          "model_name": "LayoutModel",
          "state": {
            "_view_name": "LayoutView",
            "grid_template_rows": null,
            "right": null,
            "justify_content": null,
            "_view_module": "@jupyter-widgets/base",
            "overflow": null,
            "_model_module_version": "1.2.0",
            "_view_count": null,
            "flex_flow": null,
            "width": null,
            "min_width": null,
            "border": null,
            "align_items": null,
            "bottom": null,
            "_model_module": "@jupyter-widgets/base",
            "top": null,
            "grid_column": null,
            "overflow_y": null,
            "overflow_x": null,
            "grid_auto_flow": null,
            "grid_area": null,
            "grid_template_columns": null,
            "flex": null,
            "_model_name": "LayoutModel",
            "justify_items": null,
            "grid_row": null,
            "max_height": null,
            "align_content": null,
            "visibility": null,
            "align_self": null,
            "height": null,
            "min_height": null,
            "padding": null,
            "grid_auto_rows": null,
            "grid_gap": null,
            "max_width": null,
            "order": null,
            "_view_module_version": "1.2.0",
            "grid_template_areas": null,
            "object_position": null,
            "object_fit": null,
            "grid_auto_columns": null,
            "margin": null,
            "display": null,
            "left": null
          }
        },
        "25dc3523c9684cbf9643a1081d1ef64f": {
          "model_module": "@jupyter-widgets/controls",
          "model_name": "IntProgressModel",
          "state": {
            "_view_name": "ProgressView",
            "style": "IPY_MODEL_6a1bea2a23784b33974b8f219cc9b3f1",
            "_dom_classes": [],
            "description": "",
            "_model_name": "IntProgressModel",
            "bar_style": "success",
            "max": 1,
            "_view_module": "@jupyter-widgets/controls",
            "_model_module_version": "1.5.0",
            "value": 1,
            "_view_count": null,
            "_view_module_version": "1.5.0",
            "orientation": "horizontal",
            "min": 0,
            "description_tooltip": null,
            "_model_module": "@jupyter-widgets/controls",
            "layout": "IPY_MODEL_bbf6568374c24601a290bc65bf96c932"
          }
        },
        "a60b24139eb244fc9ba8eab0daccfaaf": {
          "model_module": "@jupyter-widgets/controls",
          "model_name": "HTMLModel",
          "state": {
            "_view_name": "HTMLView",
            "style": "IPY_MODEL_e76ff159c0524ad9b91e7f4960be27a4",
            "_dom_classes": [],
            "description": "",
            "_model_name": "HTMLModel",
            "placeholder": "​",
            "_view_module": "@jupyter-widgets/controls",
            "_model_module_version": "1.5.0",
            "value": "9920512it [00:00, 10138218.94it/s]",
            "_view_count": null,
            "_view_module_version": "1.5.0",
            "description_tooltip": null,
            "_model_module": "@jupyter-widgets/controls",
            "layout": "IPY_MODEL_35fc7371798147888bbb6df469494e05"
          }
        },
        "6a1bea2a23784b33974b8f219cc9b3f1": {
          "model_module": "@jupyter-widgets/controls",
          "model_name": "ProgressStyleModel",
          "state": {
            "_view_name": "StyleView",
            "_model_name": "ProgressStyleModel",
            "description_width": "",
            "_view_module": "@jupyter-widgets/base",
            "_model_module_version": "1.5.0",
            "_view_count": null,
            "_view_module_version": "1.2.0",
            "bar_color": null,
            "_model_module": "@jupyter-widgets/controls"
          }
        },
        "bbf6568374c24601a290bc65bf96c932": {
          "model_module": "@jupyter-widgets/base",
          "model_name": "LayoutModel",
          "state": {
            "_view_name": "LayoutView",
            "grid_template_rows": null,
            "right": null,
            "justify_content": null,
            "_view_module": "@jupyter-widgets/base",
            "overflow": null,
            "_model_module_version": "1.2.0",
            "_view_count": null,
            "flex_flow": null,
            "width": null,
            "min_width": null,
            "border": null,
            "align_items": null,
            "bottom": null,
            "_model_module": "@jupyter-widgets/base",
            "top": null,
            "grid_column": null,
            "overflow_y": null,
            "overflow_x": null,
            "grid_auto_flow": null,
            "grid_area": null,
            "grid_template_columns": null,
            "flex": null,
            "_model_name": "LayoutModel",
            "justify_items": null,
            "grid_row": null,
            "max_height": null,
            "align_content": null,
            "visibility": null,
            "align_self": null,
            "height": null,
            "min_height": null,
            "padding": null,
            "grid_auto_rows": null,
            "grid_gap": null,
            "max_width": null,
            "order": null,
            "_view_module_version": "1.2.0",
            "grid_template_areas": null,
            "object_position": null,
            "object_fit": null,
            "grid_auto_columns": null,
            "margin": null,
            "display": null,
            "left": null
          }
        },
        "e76ff159c0524ad9b91e7f4960be27a4": {
          "model_module": "@jupyter-widgets/controls",
          "model_name": "DescriptionStyleModel",
          "state": {
            "_view_name": "StyleView",
            "_model_name": "DescriptionStyleModel",
            "description_width": "",
            "_view_module": "@jupyter-widgets/base",
            "_model_module_version": "1.5.0",
            "_view_count": null,
            "_view_module_version": "1.2.0",
            "_model_module": "@jupyter-widgets/controls"
          }
        },
        "35fc7371798147888bbb6df469494e05": {
          "model_module": "@jupyter-widgets/base",
          "model_name": "LayoutModel",
          "state": {
            "_view_name": "LayoutView",
            "grid_template_rows": null,
            "right": null,
            "justify_content": null,
            "_view_module": "@jupyter-widgets/base",
            "overflow": null,
            "_model_module_version": "1.2.0",
            "_view_count": null,
            "flex_flow": null,
            "width": null,
            "min_width": null,
            "border": null,
            "align_items": null,
            "bottom": null,
            "_model_module": "@jupyter-widgets/base",
            "top": null,
            "grid_column": null,
            "overflow_y": null,
            "overflow_x": null,
            "grid_auto_flow": null,
            "grid_area": null,
            "grid_template_columns": null,
            "flex": null,
            "_model_name": "LayoutModel",
            "justify_items": null,
            "grid_row": null,
            "max_height": null,
            "align_content": null,
            "visibility": null,
            "align_self": null,
            "height": null,
            "min_height": null,
            "padding": null,
            "grid_auto_rows": null,
            "grid_gap": null,
            "max_width": null,
            "order": null,
            "_view_module_version": "1.2.0",
            "grid_template_areas": null,
            "object_position": null,
            "object_fit": null,
            "grid_auto_columns": null,
            "margin": null,
            "display": null,
            "left": null
          }
        },
        "d498b0b732154e6992f01928f9dcdc09": {
          "model_module": "@jupyter-widgets/controls",
          "model_name": "HBoxModel",
          "state": {
            "_view_name": "HBoxView",
            "_dom_classes": [],
            "_model_name": "HBoxModel",
            "_view_module": "@jupyter-widgets/controls",
            "_model_module_version": "1.5.0",
            "_view_count": null,
            "_view_module_version": "1.5.0",
            "box_style": "",
            "layout": "IPY_MODEL_203d3c640753410f8a44ab85b1361d59",
            "_model_module": "@jupyter-widgets/controls",
            "children": [
              "IPY_MODEL_b6e8037f896446969fad20469b21cb5d",
              "IPY_MODEL_3195e27c2c734ae9bd85a36c81b3a34e"
            ]
          }
        },
        "203d3c640753410f8a44ab85b1361d59": {
          "model_module": "@jupyter-widgets/base",
          "model_name": "LayoutModel",
          "state": {
            "_view_name": "LayoutView",
            "grid_template_rows": null,
            "right": null,
            "justify_content": null,
            "_view_module": "@jupyter-widgets/base",
            "overflow": null,
            "_model_module_version": "1.2.0",
            "_view_count": null,
            "flex_flow": null,
            "width": null,
            "min_width": null,
            "border": null,
            "align_items": null,
            "bottom": null,
            "_model_module": "@jupyter-widgets/base",
            "top": null,
            "grid_column": null,
            "overflow_y": null,
            "overflow_x": null,
            "grid_auto_flow": null,
            "grid_area": null,
            "grid_template_columns": null,
            "flex": null,
            "_model_name": "LayoutModel",
            "justify_items": null,
            "grid_row": null,
            "max_height": null,
            "align_content": null,
            "visibility": null,
            "align_self": null,
            "height": null,
            "min_height": null,
            "padding": null,
            "grid_auto_rows": null,
            "grid_gap": null,
            "max_width": null,
            "order": null,
            "_view_module_version": "1.2.0",
            "grid_template_areas": null,
            "object_position": null,
            "object_fit": null,
            "grid_auto_columns": null,
            "margin": null,
            "display": null,
            "left": null
          }
        },
        "b6e8037f896446969fad20469b21cb5d": {
          "model_module": "@jupyter-widgets/controls",
          "model_name": "IntProgressModel",
          "state": {
            "_view_name": "ProgressView",
            "style": "IPY_MODEL_f2402425eef94a7996507222d8f6620d",
            "_dom_classes": [],
            "description": "",
            "_model_name": "IntProgressModel",
            "bar_style": "success",
            "max": 1,
            "_view_module": "@jupyter-widgets/controls",
            "_model_module_version": "1.5.0",
            "value": 1,
            "_view_count": null,
            "_view_module_version": "1.5.0",
            "orientation": "horizontal",
            "min": 0,
            "description_tooltip": null,
            "_model_module": "@jupyter-widgets/controls",
            "layout": "IPY_MODEL_2e9abff4db554aa8856bf5b32bd0f4a2"
          }
        },
        "3195e27c2c734ae9bd85a36c81b3a34e": {
          "model_module": "@jupyter-widgets/controls",
          "model_name": "HTMLModel",
          "state": {
            "_view_name": "HTMLView",
            "style": "IPY_MODEL_26d3d92bd6514e37a05514a2614d181a",
            "_dom_classes": [],
            "description": "",
            "_model_name": "HTMLModel",
            "placeholder": "​",
            "_view_module": "@jupyter-widgets/controls",
            "_model_module_version": "1.5.0",
            "value": "32768it [00:00, 115393.49it/s]",
            "_view_count": null,
            "_view_module_version": "1.5.0",
            "description_tooltip": null,
            "_model_module": "@jupyter-widgets/controls",
            "layout": "IPY_MODEL_26691a6653844861aca6fa9728eac996"
          }
        },
        "f2402425eef94a7996507222d8f6620d": {
          "model_module": "@jupyter-widgets/controls",
          "model_name": "ProgressStyleModel",
          "state": {
            "_view_name": "StyleView",
            "_model_name": "ProgressStyleModel",
            "description_width": "",
            "_view_module": "@jupyter-widgets/base",
            "_model_module_version": "1.5.0",
            "_view_count": null,
            "_view_module_version": "1.2.0",
            "bar_color": null,
            "_model_module": "@jupyter-widgets/controls"
          }
        },
        "2e9abff4db554aa8856bf5b32bd0f4a2": {
          "model_module": "@jupyter-widgets/base",
          "model_name": "LayoutModel",
          "state": {
            "_view_name": "LayoutView",
            "grid_template_rows": null,
            "right": null,
            "justify_content": null,
            "_view_module": "@jupyter-widgets/base",
            "overflow": null,
            "_model_module_version": "1.2.0",
            "_view_count": null,
            "flex_flow": null,
            "width": null,
            "min_width": null,
            "border": null,
            "align_items": null,
            "bottom": null,
            "_model_module": "@jupyter-widgets/base",
            "top": null,
            "grid_column": null,
            "overflow_y": null,
            "overflow_x": null,
            "grid_auto_flow": null,
            "grid_area": null,
            "grid_template_columns": null,
            "flex": null,
            "_model_name": "LayoutModel",
            "justify_items": null,
            "grid_row": null,
            "max_height": null,
            "align_content": null,
            "visibility": null,
            "align_self": null,
            "height": null,
            "min_height": null,
            "padding": null,
            "grid_auto_rows": null,
            "grid_gap": null,
            "max_width": null,
            "order": null,
            "_view_module_version": "1.2.0",
            "grid_template_areas": null,
            "object_position": null,
            "object_fit": null,
            "grid_auto_columns": null,
            "margin": null,
            "display": null,
            "left": null
          }
        },
        "26d3d92bd6514e37a05514a2614d181a": {
          "model_module": "@jupyter-widgets/controls",
          "model_name": "DescriptionStyleModel",
          "state": {
            "_view_name": "StyleView",
            "_model_name": "DescriptionStyleModel",
            "description_width": "",
            "_view_module": "@jupyter-widgets/base",
            "_model_module_version": "1.5.0",
            "_view_count": null,
            "_view_module_version": "1.2.0",
            "_model_module": "@jupyter-widgets/controls"
          }
        },
        "26691a6653844861aca6fa9728eac996": {
          "model_module": "@jupyter-widgets/base",
          "model_name": "LayoutModel",
          "state": {
            "_view_name": "LayoutView",
            "grid_template_rows": null,
            "right": null,
            "justify_content": null,
            "_view_module": "@jupyter-widgets/base",
            "overflow": null,
            "_model_module_version": "1.2.0",
            "_view_count": null,
            "flex_flow": null,
            "width": null,
            "min_width": null,
            "border": null,
            "align_items": null,
            "bottom": null,
            "_model_module": "@jupyter-widgets/base",
            "top": null,
            "grid_column": null,
            "overflow_y": null,
            "overflow_x": null,
            "grid_auto_flow": null,
            "grid_area": null,
            "grid_template_columns": null,
            "flex": null,
            "_model_name": "LayoutModel",
            "justify_items": null,
            "grid_row": null,
            "max_height": null,
            "align_content": null,
            "visibility": null,
            "align_self": null,
            "height": null,
            "min_height": null,
            "padding": null,
            "grid_auto_rows": null,
            "grid_gap": null,
            "max_width": null,
            "order": null,
            "_view_module_version": "1.2.0",
            "grid_template_areas": null,
            "object_position": null,
            "object_fit": null,
            "grid_auto_columns": null,
            "margin": null,
            "display": null,
            "left": null
          }
        },
        "aadd2c7211af47e9870f35d55657ac03": {
          "model_module": "@jupyter-widgets/controls",
          "model_name": "HBoxModel",
          "state": {
            "_view_name": "HBoxView",
            "_dom_classes": [],
            "_model_name": "HBoxModel",
            "_view_module": "@jupyter-widgets/controls",
            "_model_module_version": "1.5.0",
            "_view_count": null,
            "_view_module_version": "1.5.0",
            "box_style": "",
            "layout": "IPY_MODEL_0f3220c298ce43f8be0007dab6e04870",
            "_model_module": "@jupyter-widgets/controls",
            "children": [
              "IPY_MODEL_37a22640c5b84f4db538636aa8494236",
              "IPY_MODEL_235f13cd50314f9381b3413cd3233a76"
            ]
          }
        },
        "0f3220c298ce43f8be0007dab6e04870": {
          "model_module": "@jupyter-widgets/base",
          "model_name": "LayoutModel",
          "state": {
            "_view_name": "LayoutView",
            "grid_template_rows": null,
            "right": null,
            "justify_content": null,
            "_view_module": "@jupyter-widgets/base",
            "overflow": null,
            "_model_module_version": "1.2.0",
            "_view_count": null,
            "flex_flow": null,
            "width": null,
            "min_width": null,
            "border": null,
            "align_items": null,
            "bottom": null,
            "_model_module": "@jupyter-widgets/base",
            "top": null,
            "grid_column": null,
            "overflow_y": null,
            "overflow_x": null,
            "grid_auto_flow": null,
            "grid_area": null,
            "grid_template_columns": null,
            "flex": null,
            "_model_name": "LayoutModel",
            "justify_items": null,
            "grid_row": null,
            "max_height": null,
            "align_content": null,
            "visibility": null,
            "align_self": null,
            "height": null,
            "min_height": null,
            "padding": null,
            "grid_auto_rows": null,
            "grid_gap": null,
            "max_width": null,
            "order": null,
            "_view_module_version": "1.2.0",
            "grid_template_areas": null,
            "object_position": null,
            "object_fit": null,
            "grid_auto_columns": null,
            "margin": null,
            "display": null,
            "left": null
          }
        },
        "37a22640c5b84f4db538636aa8494236": {
          "model_module": "@jupyter-widgets/controls",
          "model_name": "IntProgressModel",
          "state": {
            "_view_name": "ProgressView",
            "style": "IPY_MODEL_f4e3ba3581794135a321d1c1a72c9d6b",
            "_dom_classes": [],
            "description": "",
            "_model_name": "IntProgressModel",
            "bar_style": "success",
            "max": 1,
            "_view_module": "@jupyter-widgets/controls",
            "_model_module_version": "1.5.0",
            "value": 1,
            "_view_count": null,
            "_view_module_version": "1.5.0",
            "orientation": "horizontal",
            "min": 0,
            "description_tooltip": null,
            "_model_module": "@jupyter-widgets/controls",
            "layout": "IPY_MODEL_498f1566a0a44095ab84ef5a705ec5e4"
          }
        },
        "235f13cd50314f9381b3413cd3233a76": {
          "model_module": "@jupyter-widgets/controls",
          "model_name": "HTMLModel",
          "state": {
            "_view_name": "HTMLView",
            "style": "IPY_MODEL_6a3116c44b5d4e808ee08f0c948c09ec",
            "_dom_classes": [],
            "description": "",
            "_model_name": "HTMLModel",
            "placeholder": "​",
            "_view_module": "@jupyter-widgets/controls",
            "_model_module_version": "1.5.0",
            "value": "1654784it [00:00, 2444317.75it/s]",
            "_view_count": null,
            "_view_module_version": "1.5.0",
            "description_tooltip": null,
            "_model_module": "@jupyter-widgets/controls",
            "layout": "IPY_MODEL_7c77ccd39e774420bdc6a5c450bf299c"
          }
        },
        "f4e3ba3581794135a321d1c1a72c9d6b": {
          "model_module": "@jupyter-widgets/controls",
          "model_name": "ProgressStyleModel",
          "state": {
            "_view_name": "StyleView",
            "_model_name": "ProgressStyleModel",
            "description_width": "",
            "_view_module": "@jupyter-widgets/base",
            "_model_module_version": "1.5.0",
            "_view_count": null,
            "_view_module_version": "1.2.0",
            "bar_color": null,
            "_model_module": "@jupyter-widgets/controls"
          }
        },
        "498f1566a0a44095ab84ef5a705ec5e4": {
          "model_module": "@jupyter-widgets/base",
          "model_name": "LayoutModel",
          "state": {
            "_view_name": "LayoutView",
            "grid_template_rows": null,
            "right": null,
            "justify_content": null,
            "_view_module": "@jupyter-widgets/base",
            "overflow": null,
            "_model_module_version": "1.2.0",
            "_view_count": null,
            "flex_flow": null,
            "width": null,
            "min_width": null,
            "border": null,
            "align_items": null,
            "bottom": null,
            "_model_module": "@jupyter-widgets/base",
            "top": null,
            "grid_column": null,
            "overflow_y": null,
            "overflow_x": null,
            "grid_auto_flow": null,
            "grid_area": null,
            "grid_template_columns": null,
            "flex": null,
            "_model_name": "LayoutModel",
            "justify_items": null,
            "grid_row": null,
            "max_height": null,
            "align_content": null,
            "visibility": null,
            "align_self": null,
            "height": null,
            "min_height": null,
            "padding": null,
            "grid_auto_rows": null,
            "grid_gap": null,
            "max_width": null,
            "order": null,
            "_view_module_version": "1.2.0",
            "grid_template_areas": null,
            "object_position": null,
            "object_fit": null,
            "grid_auto_columns": null,
            "margin": null,
            "display": null,
            "left": null
          }
        },
        "6a3116c44b5d4e808ee08f0c948c09ec": {
          "model_module": "@jupyter-widgets/controls",
          "model_name": "DescriptionStyleModel",
          "state": {
            "_view_name": "StyleView",
            "_model_name": "DescriptionStyleModel",
            "description_width": "",
            "_view_module": "@jupyter-widgets/base",
            "_model_module_version": "1.5.0",
            "_view_count": null,
            "_view_module_version": "1.2.0",
            "_model_module": "@jupyter-widgets/controls"
          }
        },
        "7c77ccd39e774420bdc6a5c450bf299c": {
          "model_module": "@jupyter-widgets/base",
          "model_name": "LayoutModel",
          "state": {
            "_view_name": "LayoutView",
            "grid_template_rows": null,
            "right": null,
            "justify_content": null,
            "_view_module": "@jupyter-widgets/base",
            "overflow": null,
            "_model_module_version": "1.2.0",
            "_view_count": null,
            "flex_flow": null,
            "width": null,
            "min_width": null,
            "border": null,
            "align_items": null,
            "bottom": null,
            "_model_module": "@jupyter-widgets/base",
            "top": null,
            "grid_column": null,
            "overflow_y": null,
            "overflow_x": null,
            "grid_auto_flow": null,
            "grid_area": null,
            "grid_template_columns": null,
            "flex": null,
            "_model_name": "LayoutModel",
            "justify_items": null,
            "grid_row": null,
            "max_height": null,
            "align_content": null,
            "visibility": null,
            "align_self": null,
            "height": null,
            "min_height": null,
            "padding": null,
            "grid_auto_rows": null,
            "grid_gap": null,
            "max_width": null,
            "order": null,
            "_view_module_version": "1.2.0",
            "grid_template_areas": null,
            "object_position": null,
            "object_fit": null,
            "grid_auto_columns": null,
            "margin": null,
            "display": null,
            "left": null
          }
        },
        "f499a4e93cd642928b168dc8d045b3db": {
          "model_module": "@jupyter-widgets/controls",
          "model_name": "HBoxModel",
          "state": {
            "_view_name": "HBoxView",
            "_dom_classes": [],
            "_model_name": "HBoxModel",
            "_view_module": "@jupyter-widgets/controls",
            "_model_module_version": "1.5.0",
            "_view_count": null,
            "_view_module_version": "1.5.0",
            "box_style": "",
            "layout": "IPY_MODEL_412c62127d21438f829f80ce8b247fad",
            "_model_module": "@jupyter-widgets/controls",
            "children": [
              "IPY_MODEL_f69e52304a4a420085e0b0b1ff867522",
              "IPY_MODEL_a244048958ac476f8dc2ab0cad041d2b"
            ]
          }
        },
        "412c62127d21438f829f80ce8b247fad": {
          "model_module": "@jupyter-widgets/base",
          "model_name": "LayoutModel",
          "state": {
            "_view_name": "LayoutView",
            "grid_template_rows": null,
            "right": null,
            "justify_content": null,
            "_view_module": "@jupyter-widgets/base",
            "overflow": null,
            "_model_module_version": "1.2.0",
            "_view_count": null,
            "flex_flow": null,
            "width": null,
            "min_width": null,
            "border": null,
            "align_items": null,
            "bottom": null,
            "_model_module": "@jupyter-widgets/base",
            "top": null,
            "grid_column": null,
            "overflow_y": null,
            "overflow_x": null,
            "grid_auto_flow": null,
            "grid_area": null,
            "grid_template_columns": null,
            "flex": null,
            "_model_name": "LayoutModel",
            "justify_items": null,
            "grid_row": null,
            "max_height": null,
            "align_content": null,
            "visibility": null,
            "align_self": null,
            "height": null,
            "min_height": null,
            "padding": null,
            "grid_auto_rows": null,
            "grid_gap": null,
            "max_width": null,
            "order": null,
            "_view_module_version": "1.2.0",
            "grid_template_areas": null,
            "object_position": null,
            "object_fit": null,
            "grid_auto_columns": null,
            "margin": null,
            "display": null,
            "left": null
          }
        },
        "f69e52304a4a420085e0b0b1ff867522": {
          "model_module": "@jupyter-widgets/controls",
          "model_name": "IntProgressModel",
          "state": {
            "_view_name": "ProgressView",
            "style": "IPY_MODEL_fb6dc5da13284dfa81ca565380f69e25",
            "_dom_classes": [],
            "description": "",
            "_model_name": "IntProgressModel",
            "bar_style": "success",
            "max": 1,
            "_view_module": "@jupyter-widgets/controls",
            "_model_module_version": "1.5.0",
            "value": 1,
            "_view_count": null,
            "_view_module_version": "1.5.0",
            "orientation": "horizontal",
            "min": 0,
            "description_tooltip": null,
            "_model_module": "@jupyter-widgets/controls",
            "layout": "IPY_MODEL_e7642c3169644a6388dd36fa7ec58028"
          }
        },
        "a244048958ac476f8dc2ab0cad041d2b": {
          "model_module": "@jupyter-widgets/controls",
          "model_name": "HTMLModel",
          "state": {
            "_view_name": "HTMLView",
            "style": "IPY_MODEL_8eca09b78bf74b04989d7bdae202cf90",
            "_dom_classes": [],
            "description": "",
            "_model_name": "HTMLModel",
            "placeholder": "​",
            "_view_module": "@jupyter-widgets/controls",
            "_model_module_version": "1.5.0",
            "value": "8192it [00:00, 59255.33it/s]",
            "_view_count": null,
            "_view_module_version": "1.5.0",
            "description_tooltip": null,
            "_model_module": "@jupyter-widgets/controls",
            "layout": "IPY_MODEL_85844e71d1bf4996985fc413a2d0a32c"
          }
        },
        "fb6dc5da13284dfa81ca565380f69e25": {
          "model_module": "@jupyter-widgets/controls",
          "model_name": "ProgressStyleModel",
          "state": {
            "_view_name": "StyleView",
            "_model_name": "ProgressStyleModel",
            "description_width": "",
            "_view_module": "@jupyter-widgets/base",
            "_model_module_version": "1.5.0",
            "_view_count": null,
            "_view_module_version": "1.2.0",
            "bar_color": null,
            "_model_module": "@jupyter-widgets/controls"
          }
        },
        "e7642c3169644a6388dd36fa7ec58028": {
          "model_module": "@jupyter-widgets/base",
          "model_name": "LayoutModel",
          "state": {
            "_view_name": "LayoutView",
            "grid_template_rows": null,
            "right": null,
            "justify_content": null,
            "_view_module": "@jupyter-widgets/base",
            "overflow": null,
            "_model_module_version": "1.2.0",
            "_view_count": null,
            "flex_flow": null,
            "width": null,
            "min_width": null,
            "border": null,
            "align_items": null,
            "bottom": null,
            "_model_module": "@jupyter-widgets/base",
            "top": null,
            "grid_column": null,
            "overflow_y": null,
            "overflow_x": null,
            "grid_auto_flow": null,
            "grid_area": null,
            "grid_template_columns": null,
            "flex": null,
            "_model_name": "LayoutModel",
            "justify_items": null,
            "grid_row": null,
            "max_height": null,
            "align_content": null,
            "visibility": null,
            "align_self": null,
            "height": null,
            "min_height": null,
            "padding": null,
            "grid_auto_rows": null,
            "grid_gap": null,
            "max_width": null,
            "order": null,
            "_view_module_version": "1.2.0",
            "grid_template_areas": null,
            "object_position": null,
            "object_fit": null,
            "grid_auto_columns": null,
            "margin": null,
            "display": null,
            "left": null
          }
        },
        "8eca09b78bf74b04989d7bdae202cf90": {
          "model_module": "@jupyter-widgets/controls",
          "model_name": "DescriptionStyleModel",
          "state": {
            "_view_name": "StyleView",
            "_model_name": "DescriptionStyleModel",
            "description_width": "",
            "_view_module": "@jupyter-widgets/base",
            "_model_module_version": "1.5.0",
            "_view_count": null,
            "_view_module_version": "1.2.0",
            "_model_module": "@jupyter-widgets/controls"
          }
        },
        "85844e71d1bf4996985fc413a2d0a32c": {
          "model_module": "@jupyter-widgets/base",
          "model_name": "LayoutModel",
          "state": {
            "_view_name": "LayoutView",
            "grid_template_rows": null,
            "right": null,
            "justify_content": null,
            "_view_module": "@jupyter-widgets/base",
            "overflow": null,
            "_model_module_version": "1.2.0",
            "_view_count": null,
            "flex_flow": null,
            "width": null,
            "min_width": null,
            "border": null,
            "align_items": null,
            "bottom": null,
            "_model_module": "@jupyter-widgets/base",
            "top": null,
            "grid_column": null,
            "overflow_y": null,
            "overflow_x": null,
            "grid_auto_flow": null,
            "grid_area": null,
            "grid_template_columns": null,
            "flex": null,
            "_model_name": "LayoutModel",
            "justify_items": null,
            "grid_row": null,
            "max_height": null,
            "align_content": null,
            "visibility": null,
            "align_self": null,
            "height": null,
            "min_height": null,
            "padding": null,
            "grid_auto_rows": null,
            "grid_gap": null,
            "max_width": null,
            "order": null,
            "_view_module_version": "1.2.0",
            "grid_template_areas": null,
            "object_position": null,
            "object_fit": null,
            "grid_auto_columns": null,
            "margin": null,
            "display": null,
            "left": null
          }
        }
      }
    }
  },
  "cells": [
    {
      "cell_type": "markdown",
      "metadata": {
        "id": "view-in-github",
        "colab_type": "text"
      },
      "source": [
        "<a href=\"https://colab.research.google.com/github/mbui0529/GradientDescentOptimizer/blob/master/FinalProject_Code.ipynb\" target=\"_parent\"><img src=\"https://colab.research.google.com/assets/colab-badge.svg\" alt=\"Open In Colab\"/></a>"
      ]
    },
    {
      "cell_type": "markdown",
      "metadata": {
        "id": "7pMm17uY7Nhf",
        "colab_type": "text"
      },
      "source": [
        "## EE 510: Deep Learning Theory and Practice\n",
        "### Project -- Adam / Optimizers\n",
        "### Ali Al-Bayaty, Matthew Bui, Sharanya Durgadasa\n",
        "### 3/13/2020"
      ]
    },
    {
      "cell_type": "markdown",
      "metadata": {
        "id": "aUeTMcShmmCX",
        "colab_type": "text"
      },
      "source": [
        "## Classification of synthetic and benchmark datasets using MLP (Multi-Layer Perceptron) and a set of optimizers.\n"
      ]
    },
    {
      "cell_type": "code",
      "metadata": {
        "id": "dPlLyXLammCf",
        "colab_type": "code",
        "colab": {}
      },
      "source": [
        "# Loading the required libraries:\n",
        "import time\n",
        "import numpy as np\n",
        "import sklearn as skl\n",
        "from sklearn import datasets\n",
        "import torch\n",
        "from torch.optim import Optimizer\n",
        "import torch.nn as nn \n",
        "import torch.nn.functional as F\n",
        "import torchvision.datasets as dsets \n",
        "import torchvision.transforms as transforms \n",
        "from torch.autograd import Variable\n",
        "import matplotlib.pyplot as plt\n",
        "from __future__ import print_function\n",
        "%matplotlib inline\n",
        "plt.ion()"
      ],
      "execution_count": 0,
      "outputs": []
    },
    {
      "cell_type": "code",
      "metadata": {
        "id": "lXwT42eKmmCr",
        "colab_type": "code",
        "outputId": "6fa33725-dab0-40e3-bb98-510b1602b0f0",
        "colab": {
          "base_uri": "https://localhost:8080/",
          "height": 35
        }
      },
      "source": [
        "device = torch.device(\"cuda:0\" if torch.cuda.is_available() else \"cpu\")\n",
        "\n",
        "print(device)"
      ],
      "execution_count": 3,
      "outputs": [
        {
          "output_type": "stream",
          "text": [
            "cuda:0\n"
          ],
          "name": "stdout"
        }
      ]
    },
    {
      "cell_type": "markdown",
      "metadata": {
        "id": "6NaW0QZ5mmC_",
        "colab_type": "text"
      },
      "source": [
        "## Defining the hyperparameters for the model architecture:"
      ]
    },
    {
      "cell_type": "code",
      "metadata": {
        "id": "VieL68eAmmDB",
        "colab_type": "code",
        "colab": {}
      },
      "source": [
        "# Model Hyper Parameters:\n",
        "input_size = 784\n",
        "num_classes = 10\n",
        "num_epochs = 30\n",
        "batch_size = 128\n",
        "learning_rate = 0.01\n",
        "num_features = 2\n",
        "num_hidden   = 100\n",
        "num_input = input_size\n",
        "beta1 = 0.9\n",
        "beta2 = 0.99"
      ],
      "execution_count": 0,
      "outputs": []
    },
    {
      "cell_type": "markdown",
      "metadata": {
        "id": "cTmFSnZ0qWgr",
        "colab_type": "text"
      },
      "source": [
        "### Define Nadam Optimizer"
      ]
    },
    {
      "cell_type": "code",
      "metadata": {
        "id": "cV5fPglbpRTK",
        "colab_type": "code",
        "colab": {}
      },
      "source": [
        "class Nadam(Optimizer):\n",
        "    \"\"\"Implements Nadam algorithm (a variant of Adam based on Nesterov momentum).\n",
        "\n",
        "    It has been proposed in `Incorporating Nesterov Momentum into Adam`__.\n",
        "\n",
        "    Arguments:\n",
        "        params (iterable): iterable of parameters to optimize or dicts defining\n",
        "            parameter groups\n",
        "        lr (float, optional): learning rate (default: 2e-3)\n",
        "        betas (Tuple[float, float], optional): coefficients used for computing\n",
        "            running averages of gradient and its square\n",
        "        eps (float, optional): term added to the denominator to improve\n",
        "            numerical stability (default: 1e-8)\n",
        "        weight_decay (float, optional): weight decay (L2 penalty) (default: 0)\n",
        "        schedule_decay (float, optional): momentum schedule decay (default: 4e-3)\n",
        "\n",
        "    __ http://cs229.stanford.edu/proj2015/054_report.pdf\n",
        "    __ http://www.cs.toronto.edu/~fritz/absps/momentum.pdf\n",
        "    \"\"\"\n",
        "\n",
        "    def __init__(self, params, lr=2e-3, betas=(beta1, beta2), eps=1e-8,\n",
        "                 weight_decay=0, schedule_decay=4e-3):\n",
        "        defaults = dict(lr=lr, betas=betas, eps=eps,\n",
        "                        weight_decay=weight_decay, schedule_decay=schedule_decay)\n",
        "        super(Nadam, self).__init__(params, defaults)\n",
        "\n",
        "    def step(self, closure=None):\n",
        "        \"\"\"Performs a single optimization step.\n",
        "\n",
        "        Arguments:\n",
        "            closure (callable, optional): A closure that reevaluates the model\n",
        "                and returns the loss.\n",
        "        \"\"\"\n",
        "        loss = None\n",
        "        if closure is not None:\n",
        "            loss = closure()\n",
        "\n",
        "        for group in self.param_groups:\n",
        "            for p in group['params']:\n",
        "                if p.grad is None:\n",
        "                    continue\n",
        "                grad = p.grad.data\n",
        "                state = self.state[p]\n",
        "\n",
        "                # State initialization\n",
        "                if len(state) == 0:\n",
        "                    state['step'] = 0\n",
        "                    state['m_schedule'] = 1.\n",
        "                    state['exp_avg'] = grad.new().resize_as_(grad).zero_()\n",
        "                    state['exp_avg_sq'] = grad.new().resize_as_(grad).zero_()\n",
        "\n",
        "                # Warming momentum schedule\n",
        "                m_schedule = state['m_schedule']\n",
        "                schedule_decay = group['schedule_decay']\n",
        "                exp_avg, exp_avg_sq = state['exp_avg'], state['exp_avg_sq']\n",
        "                beta1, beta2 = group['betas']\n",
        "                eps = group['eps']\n",
        "                state['step'] += 1\n",
        "                t = state['step']\n",
        "\n",
        "                if group['weight_decay'] != 0:\n",
        "                    grad = grad.add(group['weight_decay'], p.data)\n",
        "\n",
        "                momentum_cache_t = beta1 * \\\n",
        "                    (1. - 0.5 * (0.96 ** (t * schedule_decay)))\n",
        "                momentum_cache_t_1 = beta1 * \\\n",
        "                    (1. - 0.5 * (0.96 ** ((t + 1) * schedule_decay)))\n",
        "                m_schedule_new = m_schedule * momentum_cache_t\n",
        "                m_schedule_next = m_schedule * momentum_cache_t * momentum_cache_t_1\n",
        "                state['m_schedule'] = m_schedule_new\n",
        "\n",
        "                # Decay the first and second moment running average coefficient\n",
        "                exp_avg.mul_(beta1).add_(1. - beta1, grad)\n",
        "                exp_avg_sq.mul_(beta2).addcmul_(1. - beta2, grad, grad)\n",
        "                exp_avg_sq_prime = exp_avg_sq / (1. - beta2 ** t)\n",
        "                denom = exp_avg_sq_prime.sqrt_().add_(eps)\n",
        "\n",
        "                p.data.addcdiv_(-group['lr'] * (1. - momentum_cache_t) / (1. - m_schedule_new), grad, denom)\n",
        "                p.data.addcdiv_(-group['lr'] * momentum_cache_t_1 / (1. - m_schedule_next), exp_avg, denom)\n",
        "\n",
        "        return loss\n"
      ],
      "execution_count": 0,
      "outputs": []
    },
    {
      "cell_type": "markdown",
      "metadata": {
        "id": "ZGkyLvYTn-9A",
        "colab_type": "text"
      },
      "source": [
        "## Generating a synthetic dataset:\n",
        "Creates a synthetic dataset using a dataset generator from the open source scikit-learn machine learning library.  It will generate a number of 2-D clusters (blobs) of data (i.e., classes) by drawing from a number of isotropic Gaussian distributions with different center locations (means) and std dev = 1.0."
      ]
    },
    {
      "cell_type": "code",
      "metadata": {
        "id": "la1e0PxpoC91",
        "colab_type": "code",
        "colab": {}
      },
      "source": [
        "def generate_synthetic_data(dataset_size=10000, train_split = 0.1, num_blobs=num_classes, n_features=num_features, cluster_std_dev=1.0, center_box=(-8., 8.), random_state=10):\n",
        "    # scatter plot of blobs dataset\n",
        "    # generate 2d classification dataset\n",
        "    X, y = datasets.make_blobs(n_samples=dataset_size, centers=num_blobs, n_features=2, cluster_std=cluster_std_dev, center_box=(-8., 8.), random_state=10)\n",
        "    # scatter plot for each class value\n",
        "    for class_value in range(num_blobs):\n",
        "        # select indices of points with the class label\n",
        "        row_ix = np.where(y == class_value)\n",
        "        # scatter plot for points with a different color\n",
        "        plt.scatter(X[row_ix, 0], X[row_ix, 1])\n",
        "    # show plot\n",
        "    plt.show()\n",
        "    # zip the datapoints with their labels and split the dataset into training and validation sets\n",
        "    y2 = y.reshape(dataset_size,1)\n",
        "    all_data = np.hstack([X,y2]) # Returns an array with [x1, x2, one-hot class label] in each row\n",
        "    n_train = int(train_split*dataset_size)\n",
        "    training_data = all_data[:n_train, :]\n",
        "    validation_data = all_data[n_train:, :]\n",
        "    return training_data, validation_data"
      ],
      "execution_count": 0,
      "outputs": []
    },
    {
      "cell_type": "markdown",
      "metadata": {
        "id": "ftHfhvkWVHz4",
        "colab_type": "text"
      },
      "source": [
        "## Loading the synthetic training and validation datasets:"
      ]
    },
    {
      "cell_type": "code",
      "metadata": {
        "id": "Qnf5NZFIVQM3",
        "colab_type": "code",
        "outputId": "bdedba67-fb78-4750-a31a-974dd5b942db",
        "colab": {
          "base_uri": "https://localhost:8080/",
          "height": 316
        }
      },
      "source": [
        "# Loading the synthetic dataset:\n",
        "synthetic_train_data, synthetic_val_data = generate_synthetic_data(train_split = 0.1)\n",
        "num_train= len(synthetic_train_data)\n",
        "num_val  = len(synthetic_val_data)\n",
        "\n",
        "# Prepare dataset loaders (input pipeline):\n",
        "synthetic_train_loader = torch.utils.data.DataLoader(dataset = synthetic_train_data, batch_size = 64, shuffle = True) \n",
        "synthetic_val_loader   = torch.utils.data.DataLoader(dataset = synthetic_val_data, batch_size = num_val, shuffle = False)\n",
        "\n",
        "print(f'Number of synthetic training data   = {num_train}')\n",
        "print(f'Number of synthetic validation data = {num_val}', end='\\n\\n')"
      ],
      "execution_count": 0,
      "outputs": [
        {
          "output_type": "display_data",
          "data": {
            "image/png": "[encoded data removed]",
            "text/plain": [
              "<Figure size 432x288 with 1 Axes>"
            ]
          },
          "metadata": {
            "tags": []
          }
        },
        {
          "output_type": "stream",
          "text": [
            "Number of synthetic training data   = 1000\n",
            "Number of synthetic validation data = 9000\n",
            "\n"
          ],
          "name": "stdout"
        }
      ]
    },
    {
      "cell_type": "markdown",
      "metadata": {
        "colab_type": "text",
        "id": "t2TxpNxKXJbz"
      },
      "source": [
        "## The MLP architecture:"
      ]
    },
    {
      "cell_type": "code",
      "metadata": {
        "colab_type": "code",
        "id": "qcGxOAZ5XU_C",
        "colab": {}
      },
      "source": [
        "class MLP(nn.Module):\n",
        "    def __init__(self, num_input, num_classes): \n",
        "        super(MLP, self).__init__() \n",
        "        self.hidden1 = nn.Linear(num_input, num_hidden)\n",
        "        self.hidden2 = nn.Linear(num_hidden, num_hidden)\n",
        "        #self.hidden3 = nn.Linear(num_hidden, num_hidden)\n",
        "        self.output  = nn.Linear(num_hidden, num_classes)\n",
        "        \n",
        "    def forward(self, x): \n",
        "        x = F.relu(self.hidden1(x))\n",
        "        x = F.relu(self.hidden2(x))\n",
        "        #x = F.relu(self.hidden3(x))\n",
        "        out = self.output(x)\n",
        "        return out"
      ],
      "execution_count": 0,
      "outputs": []
    },
    {
      "cell_type": "markdown",
      "metadata": {
        "colab_type": "text",
        "id": "jRENvhQEXU-1"
      },
      "source": [
        "## Initializing the model:"
      ]
    },
    {
      "cell_type": "code",
      "metadata": {
        "colab_type": "code",
        "id": "jDGmMRk0XU-P",
        "outputId": "1eb6b23a-ef93-4ce6-cc53-71b789db7985",
        "colab": {
          "base_uri": "https://localhost:8080/",
          "height": 104
        }
      },
      "source": [
        "model = MLP(num_features, num_classes)\n",
        "model.to(device)"
      ],
      "execution_count": 0,
      "outputs": [
        {
          "output_type": "execute_result",
          "data": {
            "text/plain": [
              "MLP(\n",
              "  (hidden1): Linear(in_features=2, out_features=100, bias=True)\n",
              "  (hidden2): Linear(in_features=100, out_features=100, bias=True)\n",
              "  (output): Linear(in_features=100, out_features=10, bias=True)\n",
              ")"
            ]
          },
          "metadata": {
            "tags": []
          },
          "execution_count": 8
        }
      ]
    },
    {
      "cell_type": "markdown",
      "metadata": {
        "id": "MSyW1Z8uYUqc",
        "colab_type": "text"
      },
      "source": [
        "### Computing the average loss for one epoch:"
      ]
    },
    {
      "cell_type": "code",
      "metadata": {
        "id": "bAQce2jwYcef",
        "colab_type": "code",
        "colab": {}
      },
      "source": [
        "def synthetic_epoch_loss(data, model, criterion):\n",
        "    \n",
        "    data_points = Variable(torch.from_numpy(data[:, 0:2])).float().to(device) \n",
        "    labels = Variable(torch.from_numpy(data[:, 2:3])).long().squeeze().to(device) # remove a dim\n",
        "    outputs = model(data_points)\n",
        "    \n",
        "    return criterion(outputs, labels).cpu().detach().numpy()"
      ],
      "execution_count": 0,
      "outputs": []
    },
    {
      "cell_type": "markdown",
      "metadata": {
        "id": "dzr2DYgEYvnJ",
        "colab_type": "text"
      },
      "source": [
        "## One epoch of synthetic training loop:"
      ]
    },
    {
      "cell_type": "code",
      "metadata": {
        "id": "sYZqjvViY2zF",
        "colab_type": "code",
        "colab": {}
      },
      "source": [
        "def synthetic_train_epoch(loader, model):\n",
        "\n",
        "    start_time = time.time()\n",
        "\n",
        "    # Iterate through the batches in loader:\n",
        "    for i, data in enumerate(loader):\n",
        "        \n",
        "        datapoints = Variable(data[:, 0:2]).float().to(device) \n",
        "        labels = Variable(data[:, 2:3]).long().squeeze().to(device)\n",
        "\n",
        "        # Forward + Backward + Optimize:\n",
        "        optimizer.zero_grad() \n",
        "        outputs = model(datapoints)\n",
        "        loss = criterion(outputs, labels) \n",
        "        loss.backward()\n",
        "        optimizer.step()\n",
        "    \n",
        "    return (time.time() - start_time)"
      ],
      "execution_count": 0,
      "outputs": []
    },
    {
      "cell_type": "markdown",
      "metadata": {
        "id": "BljAq9TJZeGv",
        "colab_type": "text"
      },
      "source": [
        "## Evaluating the synthetic classification accuracy:"
      ]
    },
    {
      "cell_type": "code",
      "metadata": {
        "id": "lTZMraMUZk0C",
        "colab_type": "code",
        "colab": {}
      },
      "source": [
        "def synthetic_classification_accuracy(loader, model, OptimType):\n",
        "\n",
        "    correct = 0\n",
        "    total = 0\n",
        "\n",
        "    for i, data in enumerate(loader):\n",
        "        data_points = Variable(data[:, 0:2]).float().to(device) \n",
        "        labels = Variable(data[:, 2:3]).long().squeeze().to(device) # remove a dim\n",
        "        outputs = model(data_points)\n",
        "        _, predicted = torch.max(outputs.data, 1) \n",
        "        total += labels.size(0) \n",
        "        correct += (predicted == labels).sum()\n",
        "\n",
        "    print(f'MLP model accuracy on {total} synthetic datapoints using {OptimType} = {100 * correct / total: d}%')"
      ],
      "execution_count": 0,
      "outputs": []
    },
    {
      "cell_type": "markdown",
      "metadata": {
        "id": "Z0gV5pNDatVi",
        "colab_type": "text"
      },
      "source": [
        "## Training the model using synthetic datasets and different optimizers:"
      ]
    },
    {
      "cell_type": "code",
      "metadata": {
        "id": "G9XBViILa2vL",
        "colab_type": "code",
        "outputId": "f129f4a3-a96f-42b8-bcbf-9d08f9d8bac6",
        "colab": {
          "base_uri": "https://localhost:8080/",
          "height": 225
        }
      },
      "source": [
        "# Loss function:\n",
        "criterion = nn.CrossEntropyLoss()\n",
        "\n",
        "# -------------------------------------------------------------------\n",
        "# Train the model with SGD optimizer using synthetic dataset:\n",
        "\n",
        "# New model instance:\n",
        "model = MLP(num_features, num_classes)\n",
        "model.to(device)\n",
        "\n",
        "optimizer = torch.optim.SGD(model.parameters(), lr = learning_rate)\n",
        "computational_cost = 0\n",
        "diff_time = 0\n",
        "\n",
        "synthetic_train_loss_SGD = np.zeros((num_epochs,1))\n",
        "synthetic_val_loss_SGD   = np.zeros((num_epochs,1))\n",
        "\n",
        "for epoch in range(num_epochs):\n",
        "    # Training the Model:\n",
        "    diff_time = synthetic_train_epoch(synthetic_train_loader, model)\n",
        "    computational_cost += diff_time\n",
        "\n",
        "    # Computing the synthetic training and validation losses for one epoch:\n",
        "    synthetic_train_loss_SGD[epoch] = synthetic_epoch_loss(synthetic_train_data, model, criterion)\n",
        "    synthetic_val_loss_SGD[epoch]   = synthetic_epoch_loss(synthetic_val_data, model, criterion)\n",
        "\n",
        "synthetic_classification_accuracy(synthetic_val_loader, model, 'SGD')\n",
        "print(f'Computational training cost (MLP model + SGD) took ({computational_cost:.3f}) seconds.%', end='\\n\\n')\n",
        "\n",
        "# -------------------------------------------------------------------\n",
        "# Train the model with Adam optimizer using synthetic dataset:\n",
        "\n",
        "# New model instance:\n",
        "model = MLP(num_features, num_classes)\n",
        "model.to(device)\n",
        "\n",
        "optimizer = torch.optim.Adam(model.parameters(), lr = learning_rate, betas=(beta1, beta2))\n",
        "computational_cost = 0\n",
        "diff_time = 0\n",
        "\n",
        "synthetic_train_loss_Adam = np.zeros((num_epochs,1))\n",
        "synthetic_val_loss_Adam   = np.zeros((num_epochs,1))\n",
        "\n",
        "for epoch in range(num_epochs):\n",
        "    # Training the Model:\n",
        "    diff_time = synthetic_train_epoch(synthetic_train_loader, model)\n",
        "    computational_cost += diff_time\n",
        "\n",
        "    # Computing the synthetic training and validation losses for one epoch:\n",
        "    synthetic_train_loss_Adam[epoch] = synthetic_epoch_loss(synthetic_train_data, model, criterion)\n",
        "    synthetic_val_loss_Adam[epoch]   = synthetic_epoch_loss(synthetic_val_data, model, criterion)\n",
        "\n",
        "synthetic_classification_accuracy(synthetic_val_loader, model, 'Adam')\n",
        "print(f'Computational training cost (MLP model + Adam) took ({computational_cost:.3f}) seconds.%', end='\\n\\n')\n",
        "\n",
        "# -------------------------------------------------------------------\n",
        "# Train the model with AdaGrad optimizer using synthetic dataset:\n",
        "\n",
        "# New model instance:\n",
        "model = MLP(num_features, num_classes)\n",
        "model.to(device)\n",
        "\n",
        "optimizer = torch.optim.Adagrad(model.parameters(), lr = learning_rate)\n",
        "computational_cost = 0\n",
        "diff_time = 0\n",
        "\n",
        "synthetic_train_loss_AdaGrad = np.zeros((num_epochs,1))\n",
        "synthetic_val_loss_AdaGrad   = np.zeros((num_epochs,1))\n",
        "\n",
        "for epoch in range(num_epochs):\n",
        "    # Training the Model:\n",
        "    diff_time = synthetic_train_epoch(synthetic_train_loader, model)\n",
        "    computational_cost += diff_time\n",
        "\n",
        "    # Computing the synthetic training and validation losses for one epoch:\n",
        "    synthetic_train_loss_AdaGrad[epoch] = synthetic_epoch_loss(synthetic_train_data, model, criterion)\n",
        "    synthetic_val_loss_AdaGrad[epoch]   = synthetic_epoch_loss(synthetic_val_data, model, criterion)\n",
        "\n",
        "synthetic_classification_accuracy(synthetic_val_loader, model, 'AdaGrad')\n",
        "print(f'Computational training cost (MLP model + AdaGrad) took ({computational_cost:.3f}) seconds.%', end='\\n\\n')\n",
        "\n",
        "# -------------------------------------------------------------------\n",
        "# Train the model with RMSProp optimizer using synthetic dataset:\n",
        "\n",
        "# New model instance:\n",
        "model = MLP(num_features, num_classes)\n",
        "model.to(device)\n",
        "\n",
        "optimizer = torch.optim.RMSprop(model.parameters(), lr = learning_rate)\n",
        "computational_cost = 0\n",
        "diff_time = 0\n",
        "\n",
        "synthetic_train_loss_RMSProp = np.zeros((num_epochs,1))\n",
        "synthetic_val_loss_RMSProp   = np.zeros((num_epochs,1))\n",
        "\n",
        "for epoch in range(num_epochs):\n",
        "    # Training the Model:\n",
        "    diff_time = synthetic_train_epoch(synthetic_train_loader, model)\n",
        "    computational_cost += diff_time\n",
        "\n",
        "    # Computing the synthetic training and validation losses for one epoch:\n",
        "    synthetic_train_loss_RMSProp[epoch] = synthetic_epoch_loss(synthetic_train_data, model, criterion)\n",
        "    synthetic_val_loss_RMSProp[epoch]   = synthetic_epoch_loss(synthetic_val_data, model, criterion)\n",
        "\n",
        "synthetic_classification_accuracy(synthetic_val_loader, model, 'RMSProp')\n",
        "print(f'Computational training cost (MLP model + RMSProp) took ({computational_cost:.3f}) seconds.%', end='\\n\\n')"
      ],
      "execution_count": 0,
      "outputs": [
        {
          "output_type": "stream",
          "text": [
            "MLP model accuracy on 9000 synthetic datapoints using SGD =  84%\n",
            "Computational training cost (MLP model + SGD) took (0.773) seconds.%\n",
            "\n",
            "MLP model accuracy on 9000 synthetic datapoints using Adam =  93%\n",
            "Computational training cost (MLP model + Adam) took (0.974) seconds.%\n",
            "\n",
            "MLP model accuracy on 9000 synthetic datapoints using AdaGrad =  92%\n",
            "Computational training cost (MLP model + AdaGrad) took (0.683) seconds.%\n",
            "\n",
            "MLP model accuracy on 9000 synthetic datapoints using RMSProp =  93%\n",
            "Computational training cost (MLP model + RMSProp) took (0.718) seconds.%\n",
            "\n"
          ],
          "name": "stdout"
        }
      ]
    },
    {
      "cell_type": "markdown",
      "metadata": {
        "id": "9hetFkIymIuQ",
        "colab_type": "text"
      },
      "source": [
        "### Train model with classic momentum using synthetic dataset."
      ]
    },
    {
      "cell_type": "code",
      "metadata": {
        "id": "uVbjll5hmIFb",
        "colab_type": "code",
        "outputId": "7eb7abc4-f581-4800-deb0-0a3a66f4e8ae",
        "colab": {
          "base_uri": "https://localhost:8080/",
          "height": 69
        }
      },
      "source": [
        "# -------------------------------------------------------------------\n",
        "# Train the model with SGD momentum optimizer using synthetic dataset:\n",
        "\n",
        "# New model instance:\n",
        "model = MLP(num_features, num_classes)\n",
        "model.to(device)\n",
        "\n",
        "optimizer = torch.optim.SGD(model.parameters(), lr = learning_rate, momentum= beta1)\n",
        "computational_cost = 0\n",
        "diff_time = 0\n",
        "\n",
        "synthetic_train_loss_Mo = np.zeros((num_epochs,1))\n",
        "synthetic_val_loss_Mo   = np.zeros((num_epochs,1))\n",
        "\n",
        "for epoch in range(num_epochs):\n",
        "    # Training the Model:\n",
        "    diff_time = synthetic_train_epoch(synthetic_train_loader, model)\n",
        "    computational_cost += diff_time\n",
        "\n",
        "    # Computing the synthetic training and validation losses for one epoch:\n",
        "    synthetic_train_loss_Mo[epoch] = synthetic_epoch_loss(synthetic_train_data, model, criterion)\n",
        "    synthetic_val_loss_Mo[epoch]   = synthetic_epoch_loss(synthetic_val_data, model, criterion)\n",
        "\n",
        "synthetic_classification_accuracy(synthetic_val_loader, model, 'SGD with Momentum')\n",
        "print(f'Computational training cost (MLP model + SGD + Momumtum) took ({computational_cost:.3f}) seconds.%', end='\\n\\n')\n"
      ],
      "execution_count": 0,
      "outputs": [
        {
          "output_type": "stream",
          "text": [
            "MLP model accuracy on 9000 synthetic datapoints using SGD with Momentum =  93%\n",
            "Computational training cost (MLP model + SGD + Momumtum) took (0.625) seconds.%\n",
            "\n"
          ],
          "name": "stdout"
        }
      ]
    },
    {
      "cell_type": "markdown",
      "metadata": {
        "id": "UuvRDPGroJhz",
        "colab_type": "text"
      },
      "source": [
        "### Train model with NAG using synthetic dataset."
      ]
    },
    {
      "cell_type": "code",
      "metadata": {
        "id": "HwnUnJRRoUKt",
        "colab_type": "code",
        "outputId": "43876e46-da6e-4440-b051-a3015a1ff6d2",
        "colab": {
          "base_uri": "https://localhost:8080/",
          "height": 69
        }
      },
      "source": [
        "# -------------------------------------------------------------------\n",
        "# Train the model with NAG optimizer using synthetic dataset:\n",
        "\n",
        "# New model instance:\n",
        "model = MLP(num_features, num_classes)\n",
        "model.to(device)\n",
        "\n",
        "optimizer = torch.optim.SGD(model.parameters(), lr = learning_rate, momentum= beta1, nesterov=True)\n",
        "computational_cost = 0\n",
        "diff_time = 0\n",
        "\n",
        "synthetic_train_loss_NAG = np.zeros((num_epochs,1))\n",
        "synthetic_val_loss_NAG   = np.zeros((num_epochs,1))\n",
        "\n",
        "for epoch in range(num_epochs):\n",
        "    # Training the Model:\n",
        "    diff_time = synthetic_train_epoch(synthetic_train_loader, model)\n",
        "    computational_cost += diff_time\n",
        "\n",
        "    # Computing the synthetic training and validation losses for one epoch:\n",
        "    synthetic_train_loss_NAG[epoch] = synthetic_epoch_loss(synthetic_train_data, model, criterion)\n",
        "    synthetic_val_loss_NAG[epoch]   = synthetic_epoch_loss(synthetic_val_data, model, criterion)\n",
        "\n",
        "synthetic_classification_accuracy(synthetic_val_loader, model, ' NAG')\n",
        "print(f'Computational training cost (MLP model + NAG) took ({computational_cost:.3f}) seconds.%', end='\\n\\n')\n"
      ],
      "execution_count": 0,
      "outputs": [
        {
          "output_type": "stream",
          "text": [
            "MLP model accuracy on 9000 synthetic datapoints using  NAG =  93%\n",
            "Computational training cost (MLP model + NAG) took (0.778) seconds.%\n",
            "\n"
          ],
          "name": "stdout"
        }
      ]
    },
    {
      "cell_type": "markdown",
      "metadata": {
        "id": "LWSy4_AEpVFi",
        "colab_type": "text"
      },
      "source": [
        "### Train model with Nadam using synthetic dataset."
      ]
    },
    {
      "cell_type": "markdown",
      "metadata": {
        "id": "__8d-yDbrlHU",
        "colab_type": "text"
      },
      "source": [
        "Training Nadam"
      ]
    },
    {
      "cell_type": "code",
      "metadata": {
        "id": "pv4RBgVnrQDr",
        "colab_type": "code",
        "outputId": "2c80de32-365d-4173-cea5-086ce4efc855",
        "colab": {
          "base_uri": "https://localhost:8080/",
          "height": 69
        }
      },
      "source": [
        "# -------------------------------------------------------------------\n",
        "# Train the model with Nadam optimizer using synthetic dataset:\n",
        "\n",
        "# New model instance:\n",
        "model = MLP(num_features, num_classes)\n",
        "model.to(device)\n",
        "\n",
        "optimizer = Nadam(model.parameters(), lr = learning_rate)\n",
        "computational_cost = 0\n",
        "diff_time = 0\n",
        "\n",
        "synthetic_train_loss_Nadam = np.zeros((num_epochs,1))\n",
        "synthetic_val_loss_Nadam   = np.zeros((num_epochs,1))\n",
        "\n",
        "for epoch in range(num_epochs):\n",
        "    # Training the Model:\n",
        "    diff_time = synthetic_train_epoch(synthetic_train_loader, model)\n",
        "    computational_cost += diff_time\n",
        "\n",
        "    # Computing the synthetic training and validation losses for one epoch:\n",
        "    synthetic_train_loss_Nadam[epoch] = synthetic_epoch_loss(synthetic_train_data, model, criterion)\n",
        "    synthetic_val_loss_Nadam[epoch]   = synthetic_epoch_loss(synthetic_val_data, model, criterion)\n",
        "\n",
        "synthetic_classification_accuracy(synthetic_val_loader, model, ' Nadam')\n",
        "print(f'Computational training cost (MLP model + Nadam) took ({computational_cost:.3f}) seconds.%', end='\\n\\n')\n"
      ],
      "execution_count": 0,
      "outputs": [
        {
          "output_type": "stream",
          "text": [
            "MLP model accuracy on 9000 synthetic datapoints using  Nadam =  92%\n",
            "Computational training cost (MLP model + Nadam) took (0.834) seconds.%\n",
            "\n"
          ],
          "name": "stdout"
        }
      ]
    },
    {
      "cell_type": "markdown",
      "metadata": {
        "id": "TCyl6dqhgdVO",
        "colab_type": "text"
      },
      "source": [
        "## Plotting the synthetic losses:"
      ]
    },
    {
      "cell_type": "code",
      "metadata": {
        "id": "o5QhYEQFgiMM",
        "colab_type": "code",
        "outputId": "027eb618-325d-4401-b93f-4d42185c37c0",
        "colab": {
          "base_uri": "https://localhost:8080/",
          "height": 590
        }
      },
      "source": [
        "# Setting up the matplotlib plot:\n",
        "x_axis = range(0,num_epochs)\n",
        "\n",
        "fig, ax = plt.subplots()\n",
        "ax.plot(x_axis, synthetic_train_loss_SGD, 'r-', label=\"SGD\")\n",
        "ax.plot(x_axis, synthetic_train_loss_AdaGrad, 'b-', label=\"AdaGrad\")\n",
        "ax.plot(x_axis, synthetic_train_loss_RMSProp, 'k-', label=\"RMSProp\")\n",
        "ax.plot(x_axis, synthetic_train_loss_Adam, 'g-', label=\"Adam\")\n",
        "ax.set_xlabel('Iterations')\n",
        "ax.set_ylabel('Loss')\n",
        "ax.set_title('Optimizers Loss (Synthetic Training Dataset)')\n",
        "ax.legend()\n",
        "\n",
        "fig, ay = plt.subplots()\n",
        "ay.plot(x_axis, synthetic_val_loss_SGD, 'r-', label=\"SGD\")\n",
        "ay.plot(x_axis, synthetic_val_loss_AdaGrad, 'b-', label=\"AdaGrad\")\n",
        "ay.plot(x_axis, synthetic_val_loss_RMSProp, 'k-', label=\"RMSProp\")\n",
        "ay.plot(x_axis, synthetic_train_loss_Adam, 'g-', label=\"Adam\")\n",
        "ay.set_xlabel('Iterations')\n",
        "ay.set_ylabel('Loss')\n",
        "ay.set_title('Optimizers Loss (Synthetic Validation Dataset)')\n",
        "ay.legend()"
      ],
      "execution_count": 0,
      "outputs": [
        {
          "output_type": "execute_result",
          "data": {
            "text/plain": [
              "<matplotlib.legend.Legend at 0x7fec86860a58>"
            ]
          },
          "metadata": {
            "tags": []
          },
          "execution_count": 16
        },
        {
          "output_type": "display_data",
          "data": {
            "image/png": "[encoded data removed]",
            "text/plain": [
              "<Figure size 432x288 with 1 Axes>"
            ]
          },
          "metadata": {
            "tags": []
          }
        },
        {
          "output_type": "display_data",
          "data": {
            "image/png": "[encoded data removed]",
            "text/plain": [
              "<Figure size 432x288 with 1 Axes>"
            ]
          },
          "metadata": {
            "tags": []
          }
        }
      ]
    },
    {
      "cell_type": "markdown",
      "metadata": {
        "id": "-wf72S_XYL8c",
        "colab_type": "text"
      },
      "source": [
        "<br>\n",
        "\n",
        "---"
      ]
    },
    {
      "cell_type": "code",
      "metadata": {
        "id": "kXYDY3CIiExV",
        "colab_type": "code",
        "outputId": "02042c29-c3ac-4167-9c70-6dfc06816064",
        "colab": {
          "base_uri": "https://localhost:8080/",
          "height": 590
        }
      },
      "source": [
        "# Setting up the matplotlib plot:\n",
        "x_axis = range(0,num_epochs)\n",
        "\n",
        "fig, ax = plt.subplots()\n",
        "ax.plot(x_axis, synthetic_train_loss_Mo, 'y-', label=\"Momemtum\")\n",
        "ax.plot(x_axis, synthetic_train_loss_NAG, 'p-', label=\"NAG\")\n",
        "ax.plot(x_axis, synthetic_train_loss_Adam, 'g-', label=\"Adam\")\n",
        "ax.plot(x_axis, synthetic_train_loss_Nadam, 'm-', label=\"Nadam\")\n",
        "ax.set_xlabel('Iterations')\n",
        "ax.set_ylabel('Loss')\n",
        "ax.set_title('Optimizers Loss (Synthetic Training Dataset)')\n",
        "ax.legend()\n",
        "\n",
        "fig, ay = plt.subplots()\n",
        "ay.plot(x_axis, synthetic_val_loss_Mo, 'y-', label=\"Momentum\")\n",
        "ay.plot(x_axis, synthetic_val_loss_NAG, 'p-', label=\"NAG\")\n",
        "ay.plot(x_axis, synthetic_train_loss_Adam, 'g-', label=\"Adam\")\n",
        "ay.plot(x_axis, synthetic_val_loss_Adam, 'm-', label=\"Nadam\")\n",
        "ay.set_xlabel('Iterations')\n",
        "ay.set_ylabel('Loss')\n",
        "ay.set_title('Optimizers Loss (Synthetic Validation Dataset)')\n",
        "ay.legend()"
      ],
      "execution_count": 0,
      "outputs": [
        {
          "output_type": "execute_result",
          "data": {
            "text/plain": [
              "<matplotlib.legend.Legend at 0x7fec82d6f978>"
            ]
          },
          "metadata": {
            "tags": []
          },
          "execution_count": 17
        },
        {
          "output_type": "display_data",
          "data": {
            "image/png": "[encoded data removed]",
            "text/plain": [
              "<Figure size 432x288 with 1 Axes>"
            ]
          },
          "metadata": {
            "tags": []
          }
        },
        {
          "output_type": "display_data",
          "data": {
            "image/png": "[encoded data removed]",
            "text/plain": [
              "<Figure size 432x288 with 1 Axes>"
            ]
          },
          "metadata": {
            "tags": []
          }
        }
      ]
    },
    {
      "cell_type": "markdown",
      "metadata": {
        "id": "-8Gix3bp8oa4",
        "colab_type": "text"
      },
      "source": [
        "## Loading the benchmark (MNIST) dataset:"
      ]
    },
    {
      "cell_type": "code",
      "metadata": {
        "id": "RkRSrMtimmDJ",
        "colab_type": "code",
        "outputId": "978c592a-36cc-4030-e50a-8422bf180800",
        "colab": {
          "base_uri": "https://localhost:8080/",
          "height": 406,
          "referenced_widgets": [
            "37867e83586644f38dfb80c501e4e6ab",
            "de1d6c8d11844f5097855c9b795c87b5",
            "25dc3523c9684cbf9643a1081d1ef64f",
            "a60b24139eb244fc9ba8eab0daccfaaf",
            "6a1bea2a23784b33974b8f219cc9b3f1",
            "bbf6568374c24601a290bc65bf96c932",
            "e76ff159c0524ad9b91e7f4960be27a4",
            "35fc7371798147888bbb6df469494e05",
            "d498b0b732154e6992f01928f9dcdc09",
            "203d3c640753410f8a44ab85b1361d59",
            "b6e8037f896446969fad20469b21cb5d",
            "3195e27c2c734ae9bd85a36c81b3a34e",
            "f2402425eef94a7996507222d8f6620d",
            "2e9abff4db554aa8856bf5b32bd0f4a2",
            "26d3d92bd6514e37a05514a2614d181a",
            "26691a6653844861aca6fa9728eac996",
            "aadd2c7211af47e9870f35d55657ac03",
            "0f3220c298ce43f8be0007dab6e04870",
            "37a22640c5b84f4db538636aa8494236",
            "235f13cd50314f9381b3413cd3233a76",
            "f4e3ba3581794135a321d1c1a72c9d6b",
            "498f1566a0a44095ab84ef5a705ec5e4",
            "6a3116c44b5d4e808ee08f0c948c09ec",
            "7c77ccd39e774420bdc6a5c450bf299c",
            "f499a4e93cd642928b168dc8d045b3db",
            "412c62127d21438f829f80ce8b247fad",
            "f69e52304a4a420085e0b0b1ff867522",
            "a244048958ac476f8dc2ab0cad041d2b",
            "fb6dc5da13284dfa81ca565380f69e25",
            "e7642c3169644a6388dd36fa7ec58028",
            "8eca09b78bf74b04989d7bdae202cf90",
            "85844e71d1bf4996985fc413a2d0a32c"
          ]
        }
      },
      "source": [
        "# MNIST Dataset (Input Piplines):\n",
        "train_dataset = dsets.MNIST(root ='./data', train = True, transform = transforms.ToTensor(), download = True)\n",
        "test_dataset = dsets.MNIST(root ='./data', train = False, transform = transforms.ToTensor()) \n",
        "\n",
        "# Dataset Loaders (Input Piplines):\n",
        "train_loader = torch.utils.data.DataLoader(dataset = train_dataset, batch_size = batch_size, shuffle = True)\n",
        "test_loader = torch.utils.data.DataLoader(dataset = test_dataset,  batch_size = batch_size, shuffle = False)"
      ],
      "execution_count": 0,
      "outputs": [
        {
          "output_type": "stream",
          "text": [
            "Downloading http://yann.lecun.com/exdb/mnist/train-images-idx3-ubyte.gz to ./data/MNIST/raw/train-images-idx3-ubyte.gz\n"
          ],
          "name": "stdout"
        },
        {
          "output_type": "display_data",
          "data": {
            "application/vnd.jupyter.widget-view+json": {
              "model_id": "37867e83586644f38dfb80c501e4e6ab",
              "version_minor": 0,
              "version_major": 2
            },
            "text/plain": [
              "HBox(children=(IntProgress(value=1, bar_style='info', max=1), HTML(value='')))"
            ]
          },
          "metadata": {
            "tags": []
          }
        },
        {
          "output_type": "stream",
          "text": [
            "\n",
            "Extracting ./data/MNIST/raw/train-images-idx3-ubyte.gz to ./data/MNIST/raw\n",
            "Downloading http://yann.lecun.com/exdb/mnist/train-labels-idx1-ubyte.gz to ./data/MNIST/raw/train-labels-idx1-ubyte.gz\n"
          ],
          "name": "stdout"
        },
        {
          "output_type": "display_data",
          "data": {
            "application/vnd.jupyter.widget-view+json": {
              "model_id": "d498b0b732154e6992f01928f9dcdc09",
              "version_minor": 0,
              "version_major": 2
            },
            "text/plain": [
              "HBox(children=(IntProgress(value=1, bar_style='info', max=1), HTML(value='')))"
            ]
          },
          "metadata": {
            "tags": []
          }
        },
        {
          "output_type": "stream",
          "text": [
            "\n",
            "Extracting ./data/MNIST/raw/train-labels-idx1-ubyte.gz to ./data/MNIST/raw\n",
            "Downloading http://yann.lecun.com/exdb/mnist/t10k-images-idx3-ubyte.gz to ./data/MNIST/raw/t10k-images-idx3-ubyte.gz\n"
          ],
          "name": "stdout"
        },
        {
          "output_type": "display_data",
          "data": {
            "application/vnd.jupyter.widget-view+json": {
              "model_id": "aadd2c7211af47e9870f35d55657ac03",
              "version_minor": 0,
              "version_major": 2
            },
            "text/plain": [
              "HBox(children=(IntProgress(value=1, bar_style='info', max=1), HTML(value='')))"
            ]
          },
          "metadata": {
            "tags": []
          }
        },
        {
          "output_type": "stream",
          "text": [
            "\n",
            "Extracting ./data/MNIST/raw/t10k-images-idx3-ubyte.gz to ./data/MNIST/raw\n",
            "Downloading http://yann.lecun.com/exdb/mnist/t10k-labels-idx1-ubyte.gz to ./data/MNIST/raw/t10k-labels-idx1-ubyte.gz\n"
          ],
          "name": "stdout"
        },
        {
          "output_type": "display_data",
          "data": {
            "application/vnd.jupyter.widget-view+json": {
              "model_id": "f499a4e93cd642928b168dc8d045b3db",
              "version_minor": 0,
              "version_major": 2
            },
            "text/plain": [
              "HBox(children=(IntProgress(value=1, bar_style='info', max=1), HTML(value='')))"
            ]
          },
          "metadata": {
            "tags": []
          }
        },
        {
          "output_type": "stream",
          "text": [
            "\n",
            "Extracting ./data/MNIST/raw/t10k-labels-idx1-ubyte.gz to ./data/MNIST/raw\n",
            "Processing...\n",
            "Done!\n"
          ],
          "name": "stdout"
        }
      ]
    },
    {
      "cell_type": "markdown",
      "metadata": {
        "id": "T_viN_tOmmDT",
        "colab_type": "text"
      },
      "source": [
        "## Statistics of benchmark (MNIST) datasets:"
      ]
    },
    {
      "cell_type": "code",
      "metadata": {
        "id": "n7wNIXhHmmDW",
        "colab_type": "code",
        "outputId": "8cbafcac-64fd-4d80-febe-13c21acea441",
        "colab": {
          "base_uri": "https://localhost:8080/",
          "height": 242
        }
      },
      "source": [
        "print(train_dataset, end='\\n\\n')\n",
        "print(test_dataset)"
      ],
      "execution_count": 0,
      "outputs": [
        {
          "output_type": "stream",
          "text": [
            "Dataset MNIST\n",
            "    Number of datapoints: 60000\n",
            "    Root location: ./data\n",
            "    Split: Train\n",
            "    StandardTransform\n",
            "Transform: ToTensor()\n",
            "\n",
            "Dataset MNIST\n",
            "    Number of datapoints: 10000\n",
            "    Root location: ./data\n",
            "    Split: Test\n",
            "    StandardTransform\n",
            "Transform: ToTensor()\n"
          ],
          "name": "stdout"
        }
      ]
    },
    {
      "cell_type": "markdown",
      "metadata": {
        "id": "cDDKBybr_H1Q",
        "colab_type": "text"
      },
      "source": [
        "## Training the model for one epoch:"
      ]
    },
    {
      "cell_type": "code",
      "metadata": {
        "id": "pbatAadK_5bu",
        "colab_type": "code",
        "colab": {}
      },
      "source": [
        "def train_epoch(loader, model):\n",
        "\n",
        "    start_time = time.time()\n",
        "\n",
        "    # Iterate through the batches in the loader:\n",
        "    for i, (images, labels) in enumerate(loader): \n",
        "        images = Variable(images.view(-1, 28 * 28)).to(device) \n",
        "        labels = Variable(labels).to(device)\n",
        "\n",
        "        # Forward + Backward + Optimize:\n",
        "        optimizer.zero_grad() \n",
        "        outputs = model(images)\n",
        "        loss = criterion(outputs, labels) \n",
        "        loss.backward()\n",
        "        optimizer.step()\n",
        "    \n",
        "    return (time.time() - start_time)"
      ],
      "execution_count": 0,
      "outputs": []
    },
    {
      "cell_type": "markdown",
      "metadata": {
        "id": "ytmlnLfzDnte",
        "colab_type": "text"
      },
      "source": [
        "## Computing the average loss for one epoch:"
      ]
    },
    {
      "cell_type": "code",
      "metadata": {
        "id": "Mlhxo7rEDvRH",
        "colab_type": "code",
        "colab": {}
      },
      "source": [
        "def epoch_loss(loader, model, criterion):\n",
        "    \n",
        "    criterion_buffer = 0\n",
        "\n",
        "    for i, (images, labels) in enumerate(loader): \n",
        "        images = Variable(images.view(-1, 28 * 28)).to(device) \n",
        "        labels = Variable(labels).to(device)\n",
        "        \n",
        "        outputs = model(images)\n",
        "\n",
        "        criterion_buffer += criterion(outputs, labels).cpu().detach().numpy()\n",
        "            \n",
        "    return (criterion_buffer / (i+1))"
      ],
      "execution_count": 0,
      "outputs": []
    },
    {
      "cell_type": "markdown",
      "metadata": {
        "id": "HQvLveBhDzJX",
        "colab_type": "text"
      },
      "source": [
        "## Evaluating the classification accuracy:"
      ]
    },
    {
      "cell_type": "code",
      "metadata": {
        "id": "_3ENzfM-D2PT",
        "colab_type": "code",
        "colab": {}
      },
      "source": [
        "def classification_accuracy(loader, model, OptimType):\n",
        "\n",
        "    correct = 0\n",
        "    total = 0\n",
        "\n",
        "    for i, (images, labels) in enumerate(loader):\n",
        "        images = Variable(images.view(-1, 28 * 28)).to(device) \n",
        "        labels = Variable(labels).to(device)\n",
        "        outputs = model(images)\n",
        "        _, predicted = torch.max(outputs.data, 1) \n",
        "        total += labels.size(0) \n",
        "        correct += (predicted == labels).sum()\n",
        "\n",
        "    print(f'MLP model accuracy of {total} benchmark datapoints using {OptimType} = {100 * correct / total: d}%')"
      ],
      "execution_count": 0,
      "outputs": []
    },
    {
      "cell_type": "markdown",
      "metadata": {
        "id": "fcTRT0bxs_3b",
        "colab_type": "text"
      },
      "source": [
        "## Training the model using benchmark datasets and different optimizers:"
      ]
    },
    {
      "cell_type": "code",
      "metadata": {
        "id": "4E9d1TcFtPhl",
        "colab_type": "code",
        "outputId": "eb72e13d-c736-4ac4-ac08-9526aa0b2172",
        "colab": {
          "base_uri": "https://localhost:8080/",
          "height": 225
        }
      },
      "source": [
        "# -------------------------------------------------------------------\n",
        "# Train the model with SGD optimizer using benchmark dataset:\n",
        "\n",
        "# New model instance:\n",
        "model = MLP(num_input, num_classes)\n",
        "model.to(device)\n",
        "\n",
        "optimizer = torch.optim.SGD(model.parameters(), lr = learning_rate)\n",
        "computational_cost = 0\n",
        "diff_time = 0\n",
        "\n",
        "train_loss_SGD = np.zeros((num_epochs,1))\n",
        "test_loss_SGD  = np.zeros((num_epochs,1))\n",
        "\n",
        "for epoch in range(num_epochs):\n",
        "    # Training the Model:\n",
        "    diff_time = train_epoch(train_loader, model)\n",
        "    computational_cost += diff_time\n",
        "\n",
        "    # Computing the benchmark training and testing losses for one epoch:\n",
        "    train_loss_SGD[epoch] = epoch_loss(train_loader, model, criterion)\n",
        "    test_loss_SGD[epoch]  = epoch_loss(test_loader, model, criterion)\n",
        "\n",
        "classification_accuracy(test_loader, model, 'SGD')\n",
        "print(f'Computational training cost (MLP model + SGD) took ({computational_cost:.3f}) seconds.%', end='\\n\\n')\n",
        "\n",
        "# -------------------------------------------------------------------\n",
        "# Train the model with Adam optimizer using benchmark dataset:\n",
        "\n",
        "# New model instance:\n",
        "model = MLP(num_input, num_classes)\n",
        "model.to(device)\n",
        "\n",
        "optimizer = torch.optim.Adam(model.parameters(), lr = learning_rate, betas=(0.9, 0.99))\n",
        "computational_cost = 0\n",
        "diff_time = 0\n",
        "\n",
        "train_loss_Adam = np.zeros((num_epochs,1))\n",
        "test_loss_Adam  = np.zeros((num_epochs,1))\n",
        "\n",
        "for epoch in range(num_epochs):\n",
        "    # Training the Model:\n",
        "    diff_time = train_epoch(train_loader, model)\n",
        "    computational_cost += diff_time\n",
        "\n",
        "    # Computing the benchmark training and testing losses for one epoch:\n",
        "    train_loss_Adam[epoch] = epoch_loss(train_loader, model, criterion)\n",
        "    test_loss_Adam[epoch]  = epoch_loss(test_loader, model, criterion)\n",
        "\n",
        "classification_accuracy(test_loader, model, 'Adam')\n",
        "print(f'Computational training cost (MLP model + Adam) took ({computational_cost:.3f}) seconds.%', end='\\n\\n')\n",
        "\n",
        "# -------------------------------------------------------------------\n",
        "# Train the model with AdaGrad optimizer using benchmark dataset:\n",
        "\n",
        "# New model instance:\n",
        "model = MLP(num_input, num_classes)\n",
        "model.to(device)\n",
        "\n",
        "optimizer = torch.optim.Adagrad(model.parameters(), lr = learning_rate)\n",
        "computational_cost = 0\n",
        "diff_time = 0\n",
        "\n",
        "train_loss_AdaGrad = np.zeros((num_epochs,1))\n",
        "test_loss_AdaGrad  = np.zeros((num_epochs,1))\n",
        "\n",
        "for epoch in range(num_epochs):\n",
        "    # Training the Model:\n",
        "    diff_time = train_epoch(train_loader, model)\n",
        "    computational_cost += diff_time\n",
        "\n",
        "    # Computing the benchmark training and testing losses for one epoch:\n",
        "    train_loss_AdaGrad[epoch] = epoch_loss(train_loader, model, criterion)\n",
        "    test_loss_AdaGrad[epoch]  = epoch_loss(test_loader, model, criterion)\n",
        "\n",
        "classification_accuracy(test_loader, model, 'AdaGrad')\n",
        "print(f'Computational training cost (MLP model + AdaGrad) took ({computational_cost:.3f}) seconds.%', end='\\n\\n')\n",
        "\n",
        "# -------------------------------------------------------------------\n",
        "# Train the model with RMSProp optimizer using benchmark dataset:\n",
        "\n",
        "# New model instance:\n",
        "model = MLP(num_input, num_classes)\n",
        "model.to(device)\n",
        "\n",
        "optimizer = torch.optim.RMSprop(model.parameters(), lr = learning_rate)\n",
        "computational_cost = 0\n",
        "diff_time = 0\n",
        "\n",
        "train_loss_RMSProp = np.zeros((num_epochs,1))\n",
        "test_loss_RMSProp  = np.zeros((num_epochs,1))\n",
        "\n",
        "for epoch in range(num_epochs):\n",
        "    # Training the Model:\n",
        "    diff_time = train_epoch(train_loader, model)\n",
        "    computational_cost += diff_time\n",
        "\n",
        "    # Computing the benchmark training and testing losses for one epoch:\n",
        "    train_loss_RMSProp[epoch] = epoch_loss(train_loader, model, criterion)\n",
        "    test_loss_RMSProp[epoch]  = epoch_loss(test_loader, model, criterion)\n",
        "\n",
        "classification_accuracy(test_loader, model, 'RMSProp')\n",
        "print(f'Computational training cost (MLP model + RMSProp) took ({computational_cost:.3f}) seconds.%', end='\\n\\n')"
      ],
      "execution_count": 0,
      "outputs": [
        {
          "output_type": "stream",
          "text": [
            "MLP model accuracy of 10000 benchmark datapoints using SGD =  94%\n",
            "Computational training cost (MLP model + SGD) took (125.260) seconds.%\n",
            "\n",
            "MLP model accuracy of 10000 benchmark datapoints using Adam =  97%\n",
            "Computational training cost (MLP model + Adam) took (133.660) seconds.%\n",
            "\n",
            "MLP model accuracy of 10000 benchmark datapoints using AdaGrad =  97%\n",
            "Computational training cost (MLP model + AdaGrad) took (126.882) seconds.%\n",
            "\n",
            "MLP model accuracy of 10000 benchmark datapoints using RMSProp =  96%\n",
            "Computational training cost (MLP model + RMSProp) took (127.371) seconds.%\n",
            "\n"
          ],
          "name": "stdout"
        }
      ]
    },
    {
      "cell_type": "markdown",
      "metadata": {
        "id": "uYhUtLxTuO84",
        "colab_type": "text"
      },
      "source": [
        "### Train with Momentum"
      ]
    },
    {
      "cell_type": "code",
      "metadata": {
        "id": "sSzdT1Y2uOLX",
        "colab_type": "code",
        "outputId": "4af31c05-a1d1-4ddc-d371-bc4631fdf3d2",
        "colab": {
          "base_uri": "https://localhost:8080/",
          "height": 69
        }
      },
      "source": [
        "# -------------------------------------------------------------------\n",
        "# Train the model with SGD momentum optimizer using benchmark dataset:\n",
        "\n",
        "# New model instance:\n",
        "model = MLP(num_input, num_classes)\n",
        "model.to(device)\n",
        "\n",
        "optimizer = torch.optim.SGD(model.parameters(), lr = learning_rate, momentum= beta1)\n",
        "computational_cost = 0\n",
        "diff_time = 0\n",
        "\n",
        "train_loss_Mo = np.zeros((num_epochs,1))\n",
        "test_loss_Mo  = np.zeros((num_epochs,1))\n",
        "\n",
        "for epoch in range(num_epochs):\n",
        "    # Training the Model:\n",
        "    diff_time = train_epoch(train_loader, model)\n",
        "    computational_cost += diff_time\n",
        "\n",
        "    # Computing the benchmark training and testing losses for one epoch:\n",
        "    train_loss_Mo[epoch] = epoch_loss(train_loader, model, criterion)\n",
        "    test_loss_Mo[epoch]  = epoch_loss(test_loader, model, criterion)\n",
        "\n",
        "classification_accuracy(test_loader, model, 'Momentum')\n",
        "print(f'Computational training cost (MLP model + Momentum) took ({computational_cost:.3f}) seconds.%', end='\\n\\n')\n",
        "\n"
      ],
      "execution_count": 0,
      "outputs": [
        {
          "output_type": "stream",
          "text": [
            "MLP model accuracy of 10000 benchmark datapoints using Momentum =  98%\n",
            "Computational training cost (MLP model + Momentum) took (124.863) seconds.%\n",
            "\n"
          ],
          "name": "stdout"
        }
      ]
    },
    {
      "cell_type": "markdown",
      "metadata": {
        "id": "_BaB0cXNuY-z",
        "colab_type": "text"
      },
      "source": [
        "### Train with NAG"
      ]
    },
    {
      "cell_type": "code",
      "metadata": {
        "id": "m9Zv9UVswel6",
        "colab_type": "code",
        "outputId": "49fef48e-3184-4967-8219-ab3f3d9223cc",
        "colab": {
          "base_uri": "https://localhost:8080/",
          "height": 69
        }
      },
      "source": [
        "#-------------------------------------------------------------------\n",
        "# Train the model with NAG using benchmark dataset:\n",
        "\n",
        "# New model instance:\n",
        "model = MLP(num_input, num_classes)\n",
        "model.to(device)\n",
        "\n",
        "optimizer = torch.optim.SGD(model.parameters(), lr = learning_rate, momentum= beta1, nesterov=True)\n",
        "computational_cost = 0\n",
        "diff_time = 0\n",
        "\n",
        "train_loss_NAG = np.zeros((num_epochs,1))\n",
        "test_loss_NAG  = np.zeros((num_epochs,1))\n",
        "\n",
        "for epoch in range(num_epochs):\n",
        "    # Training the Model:\n",
        "    diff_time = train_epoch(train_loader, model)\n",
        "    computational_cost += diff_time\n",
        "\n",
        "    # Computing the benchmark training and testing losses for one epoch:\n",
        "    train_loss_NAG[epoch] = epoch_loss(train_loader, model, criterion)\n",
        "    test_loss_NAG[epoch]  = epoch_loss(test_loader, model, criterion)\n",
        "\n",
        "classification_accuracy(test_loader, model, 'NAG')\n",
        "print(f'Computational training cost (MLP model + NAG) took ({computational_cost:.3f}) seconds.%', end='\\n\\n')\n",
        "\n"
      ],
      "execution_count": 0,
      "outputs": [
        {
          "output_type": "stream",
          "text": [
            "MLP model accuracy of 10000 benchmark datapoints using NAG =  97%\n",
            "Computational training cost (MLP model + NAG) took (125.649) seconds.%\n",
            "\n"
          ],
          "name": "stdout"
        }
      ]
    },
    {
      "cell_type": "markdown",
      "metadata": {
        "id": "W-UYSD4_uear",
        "colab_type": "text"
      },
      "source": [
        "###Train with Nadam"
      ]
    },
    {
      "cell_type": "code",
      "metadata": {
        "id": "POVWVA6fxD2H",
        "colab_type": "code",
        "outputId": "6039b512-1cdf-4b17-bab1-4cf8c1ee89df",
        "colab": {
          "base_uri": "https://localhost:8080/",
          "height": 69
        }
      },
      "source": [
        "#-------------------------------------------------------------------\n",
        "# Train the model with NAG using benchmark dataset:\n",
        "\n",
        "# New model instance:\n",
        "model = MLP(num_input, num_classes)\n",
        "model.to(device)\n",
        "\n",
        "optimizer = Nadam(model.parameters(), lr = learning_rate)\n",
        "computational_cost = 0\n",
        "diff_time = 0\n",
        "\n",
        "train_loss_Nadam = np.zeros((num_epochs,1))\n",
        "test_loss_Nadam  = np.zeros((num_epochs,1))\n",
        "\n",
        "for epoch in range(num_epochs):\n",
        "    # Training the Model:\n",
        "    diff_time = train_epoch(train_loader, model)\n",
        "    computational_cost += diff_time\n",
        "\n",
        "    # Computing the benchmark training and testing losses for one epoch:\n",
        "    train_loss_Nadam[epoch] = epoch_loss(train_loader, model, criterion)\n",
        "    test_loss_Nadam[epoch]  = epoch_loss(test_loader, model, criterion)\n",
        "\n",
        "classification_accuracy(test_loader, model, 'Nadam')\n",
        "print(f'Computational training cost (Nadam) took ({computational_cost:.3f}) seconds.%', end='\\n\\n')\n",
        "\n"
      ],
      "execution_count": 0,
      "outputs": [
        {
          "output_type": "stream",
          "text": [
            "MLP model accuracy of 10000 benchmark datapoints using Nadam =  96%\n",
            "Computational training cost (Nadam) took (130.937) seconds.%\n",
            "\n"
          ],
          "name": "stdout"
        }
      ]
    },
    {
      "cell_type": "markdown",
      "metadata": {
        "id": "PbphuGr3gNQx",
        "colab_type": "text"
      },
      "source": [
        "## Plotting the benchmark losses:"
      ]
    },
    {
      "cell_type": "code",
      "metadata": {
        "id": "UyeO4EP1gRo0",
        "colab_type": "code",
        "outputId": "e3e7a0d6-a55f-4f0b-b8a8-34ea7a9e98c8",
        "colab": {
          "base_uri": "https://localhost:8080/",
          "height": 590
        }
      },
      "source": [
        "# Setting up the matplotlib plot:\n",
        "\n",
        "fig, aw = plt.subplots()\n",
        "aw.plot(x_axis, train_loss_SGD, 'r-', label=\"SGD\")\n",
        "aw.plot(x_axis, train_loss_Mo, 'y-', label=\"Momemtum\")\n",
        "aw.plot(x_axis, train_loss_NAG, 'p-', label=\"NAG\")\n",
        "aw.plot(x_axis, train_loss_AdaGrad, 'b-', label=\"AdaGrad\")\n",
        "aw.plot(x_axis, train_loss_RMSProp, 'k-', label=\"RMSProp\")\n",
        "aw.plot(x_axis, train_loss_Adam, 'g-', label=\"Adam\")\n",
        "aw.plot(x_axis, train_loss_Nadam, 'm-', label=\"Nadam\")\n",
        "aw.set_xlabel('Iterations')\n",
        "aw.set_ylabel('Loss')\n",
        "aw.set_title('Optimizers Loss (Benchmark Training Dataset)')\n",
        "aw.legend()\n",
        "\n",
        "fig, az = plt.subplots()\n",
        "az.plot(x_axis, test_loss_SGD, 'r-', label=\"SGD\")\n",
        "az.plot(x_axis, test_loss_Mo, 'y-', label=\"Momemtum\")\n",
        "az.plot(x_axis, test_loss_NAG, 'p-', label=\"NAG\")\n",
        "az.plot(x_axis, test_loss_AdaGrad, 'b-', label=\"AdaGrad\")\n",
        "az.plot(x_axis, test_loss_RMSProp, 'k-', label=\"RMSProp\")\n",
        "az.plot(x_axis, test_loss_Adam, 'g-', label=\"Adam\")\n",
        "az.plot(x_axis, test_loss_Nadam, 'm-', label=\"Nadam\")\n",
        "az.set_xlabel('Iterations')\n",
        "az.set_ylabel('Loss')\n",
        "az.set_title('Optimizers Loss (Benchmark Testing Dataset)')\n",
        "az.legend()"
      ],
      "execution_count": 0,
      "outputs": [
        {
          "output_type": "execute_result",
          "data": {
            "text/plain": [
              "<matplotlib.legend.Legend at 0x7f86e143cd30>"
            ]
          },
          "metadata": {
            "tags": []
          },
          "execution_count": 26
        },
        {
          "output_type": "display_data",
          "data": {
            "image/png": "[encoded data removed]",
            "text/plain": [
              "<Figure size 432x288 with 1 Axes>"
            ]
          },
          "metadata": {
            "tags": []
          }
        },
        {
          "output_type": "display_data",
          "data": {
            "image/png": "[encoded data removed]",
            "text/plain": [
              "<Figure size 432x288 with 1 Axes>"
            ]
          },
          "metadata": {
            "tags": []
          }
        }
      ]
    },
    {
      "cell_type": "markdown",
      "metadata": {
        "id": "amtzorUoPi6H",
        "colab_type": "text"
      },
      "source": [
        "<br>\n",
        "\n",
        "---"
      ]
    },
    {
      "cell_type": "markdown",
      "metadata": {
        "id": "CbmcGz6N0ITo",
        "colab_type": "text"
      },
      "source": [
        "### Experiment With Synthetic Online Learning Data"
      ]
    },
    {
      "cell_type": "markdown",
      "metadata": {
        "id": "WQDxZWPL0wQA",
        "colab_type": "text"
      },
      "source": [
        "###### Create dataset and hyper parameters."
      ]
    },
    {
      "cell_type": "code",
      "metadata": {
        "id": "MbRe6XLc0HoP",
        "colab_type": "code",
        "outputId": "08791cd6-a505-4608-9e97-3f610a52c868",
        "colab": {
          "base_uri": "https://localhost:8080/",
          "height": 279
        }
      },
      "source": [
        "T = 1000 # Generate 1,000 datapoints\n",
        "time = np.arange(0, T)\n",
        "num_epochs = 30\n",
        "# Define the target function\n",
        "f = np.sin(0.01 * time) + 0.2 * np.random.normal(size=T)\n",
        "# Let's plot the target function, f\n",
        "fig, ax = plt.subplots()\n",
        "ax.plot(time, f, 'r')\n",
        "\n",
        "# Now let's construct a dataset that we can train a model on...\n",
        "ax.set_xlabel('Time')\n",
        "ax.set_ylabel('Label')\n",
        "tau = 4 # The history length\n",
        "n_train=100"
      ],
      "execution_count": 71,
      "outputs": [
        {
          "output_type": "display_data",
          "data": {
            "image/png": "[encoded data removed]",
            "text/plain": [
              "<Figure size 432x288 with 1 Axes>"
            ]
          },
          "metadata": {
            "tags": []
          }
        }
      ]
    },
    {
      "cell_type": "code",
      "metadata": {
        "id": "OvZt1uI31INh",
        "colab_type": "code",
        "colab": {}
      },
      "source": [
        "# Create dataset\n",
        "from torch.utils.data import DataLoader\n",
        "from torch.utils.data import Dataset\n",
        "class TargetData(Dataset):\n",
        "    def __init__(self, num_points):\n",
        "        # Now let's construct a dataset that we can train a model on...\n",
        "        T = num_points # Generate datapoints for training\n",
        "        print(\"Sequential size: \",T)\n",
        "        time = np.arange(0, T)\n",
        "        f = np.sin(0.01 * time) + 0.2 * np.random.normal(size=T)\n",
        "        tau = 4 # The history length\n",
        "        self.features = np.zeros((T-tau, tau))\n",
        "        for i in range(tau):\n",
        "            self.features[:, i] = f[i: T-tau+i]\n",
        "            self.labels = f[tau:]\n",
        "        \n",
        "    def __getitem__(self, index):\n",
        "        x = self.features[index]\n",
        "        y = self.labels[index]\n",
        "        \n",
        "        return {'features': x, 'label': y}\n",
        "    \n",
        "    def __len__(self):\n",
        "        return len(self.features)"
      ],
      "execution_count": 0,
      "outputs": []
    },
    {
      "cell_type": "markdown",
      "metadata": {
        "id": "9DnkvxX32GlQ",
        "colab_type": "text"
      },
      "source": [
        "##### Online Learning Experiment"
      ]
    },
    {
      "cell_type": "code",
      "metadata": {
        "id": "Dr8AM6vg2M1Y",
        "colab_type": "code",
        "colab": {}
      },
      "source": [
        "def train_net(net, train_iter, epochs, lr,optimizer):\n",
        "    criterion = nn.MSELoss()\n",
        "    loss_train = 0.\n",
        "    for epoch in range(epochs):\n",
        "        running_loss = 0.\n",
        "        i = 1\n",
        "        for batch in train_iter:\n",
        "            features = batch['features'].requires_grad_(True)\n",
        "            label = batch['label']\n",
        "            optimizer.zero_grad()\n",
        "\n",
        "            # forward + backward + optimize\n",
        "            outputs = net(features.float())\n",
        "            loss = criterion(outputs, label.reshape((-1, 1)))\n",
        "            loss.backward()\n",
        "            optimizer.step()\n",
        "\n",
        "            # Print stats\n",
        "            running_loss += loss.item()\n",
        "            i += 1\n",
        "        loss_train = running_loss/i\n",
        "    return loss_train"
      ],
      "execution_count": 0,
      "outputs": []
    },
    {
      "cell_type": "code",
      "metadata": {
        "id": "jmg4wNrTGrXM",
        "colab_type": "code",
        "colab": {}
      },
      "source": [
        "import torch.nn as nn\n",
        "import torch.nn.functional as F\n",
        "class MLP(nn.Module):\n",
        "    def __init__(self, num_features):\n",
        "        super(MLP, self).__init__()\n",
        "        self.fc1 = nn.Linear(num_features, 10)\n",
        "        self.output = nn.Linear(10, 1)\n",
        "\n",
        "    def forward(self, x):\n",
        "        x = self.fc1(x)\n",
        "        x = F.relu(x)\n",
        "        x = self.output(x)\n",
        "        return x"
      ],
      "execution_count": 0,
      "outputs": []
    },
    {
      "cell_type": "code",
      "metadata": {
        "id": "05SYRO2uGuqz",
        "colab_type": "code",
        "outputId": "22b734c4-7bbf-4f81-fc1e-69efde4f9491",
        "colab": {
          "base_uri": "https://localhost:8080/",
          "height": 432
        }
      },
      "source": [
        "net = MLP(4)\n",
        "optimizer = torch.optim.SGD(net.parameters(), lr=learning_rate)\n",
        "step = int(n_train/tau)\n",
        "online_loss_SGD = np.zeros((step,1))\n",
        "for i in range(1,step):\n",
        "  train = TargetData(i*tau)\n",
        "  train_iter = DataLoader(train, batch_size=1)\n",
        "  loss = train_net(net, train_iter, num_epochs, learning_rate,optimizer)\n",
        "  online_loss_SGD[i]=(loss)"
      ],
      "execution_count": 75,
      "outputs": [
        {
          "output_type": "stream",
          "text": [
            "Sequential size:  4\n",
            "Sequential size:  8\n",
            "Sequential size:  12\n",
            "Sequential size:  16\n",
            "Sequential size:  20\n",
            "Sequential size:  24\n",
            "Sequential size:  28\n",
            "Sequential size:  32\n",
            "Sequential size:  36\n",
            "Sequential size:  40\n",
            "Sequential size:  44\n",
            "Sequential size:  48\n",
            "Sequential size:  52\n",
            "Sequential size:  56\n",
            "Sequential size:  60\n",
            "Sequential size:  64\n",
            "Sequential size:  68\n",
            "Sequential size:  72\n",
            "Sequential size:  76\n",
            "Sequential size:  80\n",
            "Sequential size:  84\n",
            "Sequential size:  88\n",
            "Sequential size:  92\n",
            "Sequential size:  96\n"
          ],
          "name": "stdout"
        }
      ]
    },
    {
      "cell_type": "code",
      "metadata": {
        "id": "3hT0aSidG-Wh",
        "colab_type": "code",
        "colab": {}
      },
      "source": [
        "# Test value\n",
        "features = np.zeros((T-tau, tau))\n",
        "for i in range(tau):\n",
        "    features[:, i] = f[i: T-tau+i]\n",
        "labels = f[tau:]\n",
        "features[0]\n",
        "labels[0]\n",
        "net.eval()\n",
        "estimates_SGD = net(torch.tensor(features).float())\n",
        "estimates_SGD = estimates_SGD.detach().numpy().reshape(-1,)"
      ],
      "execution_count": 0,
      "outputs": []
    },
    {
      "cell_type": "code",
      "metadata": {
        "id": "iiru4T4XEJoY",
        "colab_type": "code",
        "outputId": "2b3340e9-48df-494c-a240-f0cdfdb6335a",
        "colab": {
          "base_uri": "https://localhost:8080/",
          "height": 432
        }
      },
      "source": [
        "# Train with Momentum\n",
        "net = MLP(4)\n",
        "optimizer = torch.optim.SGD(net.parameters(), lr=learning_rate, momentum=beta1)\n",
        "n_train=100\n",
        "step = int(n_train/tau)\n",
        "online_loss_Mo = np.zeros((step,1))\n",
        "for i in range(1,step):\n",
        "  train = TargetData(i*tau)\n",
        "  train_iter = DataLoader(train, batch_size=1)\n",
        "  loss = train_net(net, train_iter,num_epochs, learning_rate,optimizer)\n",
        "  online_loss_Mo[i]=loss"
      ],
      "execution_count": 77,
      "outputs": [
        {
          "output_type": "stream",
          "text": [
            "Sequential size:  4\n",
            "Sequential size:  8\n",
            "Sequential size:  12\n",
            "Sequential size:  16\n",
            "Sequential size:  20\n",
            "Sequential size:  24\n",
            "Sequential size:  28\n",
            "Sequential size:  32\n",
            "Sequential size:  36\n",
            "Sequential size:  40\n",
            "Sequential size:  44\n",
            "Sequential size:  48\n",
            "Sequential size:  52\n",
            "Sequential size:  56\n",
            "Sequential size:  60\n",
            "Sequential size:  64\n",
            "Sequential size:  68\n",
            "Sequential size:  72\n",
            "Sequential size:  76\n",
            "Sequential size:  80\n",
            "Sequential size:  84\n",
            "Sequential size:  88\n",
            "Sequential size:  92\n",
            "Sequential size:  96\n"
          ],
          "name": "stdout"
        }
      ]
    },
    {
      "cell_type": "code",
      "metadata": {
        "id": "dRQ22GEIEYEE",
        "colab_type": "code",
        "colab": {}
      },
      "source": [
        "# Test value\n",
        "features = np.zeros((T-tau, tau))\n",
        "for i in range(tau):\n",
        "    features[:, i] = f[i: T-tau+i]\n",
        "labels = f[tau:]\n",
        "features[0]\n",
        "labels[0]\n",
        "net.eval()\n",
        "estimates_Mo = net(torch.tensor(features).float())\n",
        "estimates_Mo = estimates_Mo.detach().numpy().reshape(-1,)"
      ],
      "execution_count": 0,
      "outputs": []
    },
    {
      "cell_type": "code",
      "metadata": {
        "id": "3ncqBgtSJPrF",
        "colab_type": "code",
        "outputId": "31aee71b-4a1b-4302-b971-664b9e8a655e",
        "colab": {
          "base_uri": "https://localhost:8080/",
          "height": 432
        }
      },
      "source": [
        "# Train with NAG\n",
        "net = MLP(4)\n",
        "optimizer = torch.optim.SGD(net.parameters(), lr=learning_rate, momentum=beta1,nesterov=True)\n",
        "n_train=100\n",
        "step = int(n_train/tau)\n",
        "online_loss_NAG = np.zeros((step,1))\n",
        "for i in range(1,step):\n",
        "  train = TargetData(i*tau)\n",
        "  train_iter = DataLoader(train, batch_size=1)\n",
        "  loss = train_net(net, train_iter, num_epochs, learning_rate,optimizer)\n",
        "  online_loss_NAG[i]=loss"
      ],
      "execution_count": 79,
      "outputs": [
        {
          "output_type": "stream",
          "text": [
            "Sequential size:  4\n",
            "Sequential size:  8\n",
            "Sequential size:  12\n",
            "Sequential size:  16\n",
            "Sequential size:  20\n",
            "Sequential size:  24\n",
            "Sequential size:  28\n",
            "Sequential size:  32\n",
            "Sequential size:  36\n",
            "Sequential size:  40\n",
            "Sequential size:  44\n",
            "Sequential size:  48\n",
            "Sequential size:  52\n",
            "Sequential size:  56\n",
            "Sequential size:  60\n",
            "Sequential size:  64\n",
            "Sequential size:  68\n",
            "Sequential size:  72\n",
            "Sequential size:  76\n",
            "Sequential size:  80\n",
            "Sequential size:  84\n",
            "Sequential size:  88\n",
            "Sequential size:  92\n",
            "Sequential size:  96\n"
          ],
          "name": "stdout"
        }
      ]
    },
    {
      "cell_type": "code",
      "metadata": {
        "id": "EzUV2DbLJiGk",
        "colab_type": "code",
        "colab": {}
      },
      "source": [
        "# Test value\n",
        "features = np.zeros((T-tau, tau))\n",
        "for i in range(tau):\n",
        "    features[:, i] = f[i: T-tau+i]\n",
        "labels = f[tau:]\n",
        "features[0]\n",
        "labels[0]\n",
        "net.eval()\n",
        "estimates_NAG = net(torch.tensor(features).float())\n",
        "estimates_NAG = estimates_NAG.detach().numpy().reshape(-1,)"
      ],
      "execution_count": 0,
      "outputs": []
    },
    {
      "cell_type": "code",
      "metadata": {
        "id": "0iAQFnXSEvRg",
        "colab_type": "code",
        "outputId": "cbe12413-47a5-451e-ef18-902543f7473d",
        "colab": {
          "base_uri": "https://localhost:8080/",
          "height": 432
        }
      },
      "source": [
        "net = MLP(4)\n",
        "optimizer = torch.optim.RMSprop(net.parameters(), lr=learning_rate)\n",
        "n_train=100\n",
        "step = int(n_train/tau)\n",
        "online_loss_RMS = np.zeros((step,1))\n",
        "for i in range(1,step):\n",
        "  train = TargetData(i*tau)\n",
        "  train_iter = DataLoader(train, batch_size=1)\n",
        "  loss = train_net(net, train_iter,num_epochs, learning_rate,optimizer)\n",
        "  online_loss_RMS[i]=loss"
      ],
      "execution_count": 81,
      "outputs": [
        {
          "output_type": "stream",
          "text": [
            "Sequential size:  4\n",
            "Sequential size:  8\n",
            "Sequential size:  12\n",
            "Sequential size:  16\n",
            "Sequential size:  20\n",
            "Sequential size:  24\n",
            "Sequential size:  28\n",
            "Sequential size:  32\n",
            "Sequential size:  36\n",
            "Sequential size:  40\n",
            "Sequential size:  44\n",
            "Sequential size:  48\n",
            "Sequential size:  52\n",
            "Sequential size:  56\n",
            "Sequential size:  60\n",
            "Sequential size:  64\n",
            "Sequential size:  68\n",
            "Sequential size:  72\n",
            "Sequential size:  76\n",
            "Sequential size:  80\n",
            "Sequential size:  84\n",
            "Sequential size:  88\n",
            "Sequential size:  92\n",
            "Sequential size:  96\n"
          ],
          "name": "stdout"
        }
      ]
    },
    {
      "cell_type": "code",
      "metadata": {
        "id": "pIMzOvj9FCsl",
        "colab_type": "code",
        "colab": {}
      },
      "source": [
        "# Test value\n",
        "features = np.zeros((T-tau, tau))\n",
        "for i in range(tau):\n",
        "    features[:, i] = f[i: T-tau+i]\n",
        "labels = f[tau:]\n",
        "features[0]\n",
        "labels[0]\n",
        "net.eval()\n",
        "estimates_RMS = net(torch.tensor(features).float())\n",
        "estimates_RMS = estimates_RMS.detach().numpy().reshape(-1,)"
      ],
      "execution_count": 0,
      "outputs": []
    },
    {
      "cell_type": "code",
      "metadata": {
        "id": "fshoyyub2Uqv",
        "colab_type": "code",
        "outputId": "df7015ac-cae4-4132-ce9c-8b71f1c3c3af",
        "colab": {
          "base_uri": "https://localhost:8080/",
          "height": 432
        }
      },
      "source": [
        "# Train with Adam\n",
        "net = MLP(4)\n",
        "optimizer = torch.optim.Adam(net.parameters(), lr=learning_rate)\n",
        "n_train=100\n",
        "step = int(n_train/tau)\n",
        "online_loss_Adam = np.zeros((step,1))\n",
        "for i in range(1,step):\n",
        "  train = TargetData(i*tau)\n",
        "  train_iter = DataLoader(train, batch_size=1)\n",
        "  loss = train_net(net, train_iter, num_epochs, learning_rate,optimizer)\n",
        "  online_loss_Adam[i]=loss"
      ],
      "execution_count": 83,
      "outputs": [
        {
          "output_type": "stream",
          "text": [
            "Sequential size:  4\n",
            "Sequential size:  8\n",
            "Sequential size:  12\n",
            "Sequential size:  16\n",
            "Sequential size:  20\n",
            "Sequential size:  24\n",
            "Sequential size:  28\n",
            "Sequential size:  32\n",
            "Sequential size:  36\n",
            "Sequential size:  40\n",
            "Sequential size:  44\n",
            "Sequential size:  48\n",
            "Sequential size:  52\n",
            "Sequential size:  56\n",
            "Sequential size:  60\n",
            "Sequential size:  64\n",
            "Sequential size:  68\n",
            "Sequential size:  72\n",
            "Sequential size:  76\n",
            "Sequential size:  80\n",
            "Sequential size:  84\n",
            "Sequential size:  88\n",
            "Sequential size:  92\n",
            "Sequential size:  96\n"
          ],
          "name": "stdout"
        }
      ]
    },
    {
      "cell_type": "code",
      "metadata": {
        "id": "kSaVCGS7Hw9F",
        "colab_type": "code",
        "colab": {}
      },
      "source": [
        "# Test value\n",
        "features = np.zeros((T-tau, tau))\n",
        "for i in range(tau):\n",
        "    features[:, i] = f[i: T-tau+i]\n",
        "labels = f[tau:]\n",
        "features[0]\n",
        "labels[0]\n",
        "net.eval()\n",
        "estimates_Adam = net(torch.tensor(features).float())\n",
        "estimates_Adam = estimates_Adam.detach().numpy().reshape(-1,)"
      ],
      "execution_count": 0,
      "outputs": []
    },
    {
      "cell_type": "code",
      "metadata": {
        "id": "Ya_EaoI8H8qJ",
        "colab_type": "code",
        "outputId": "4de371a0-a46b-40fb-81be-d67c65191532",
        "colab": {
          "base_uri": "https://localhost:8080/",
          "height": 432
        }
      },
      "source": [
        "# Train with Adagrad\n",
        "net = MLP(4)\n",
        "optimizer = torch.optim.Adagrad(net.parameters(), lr=learning_rate)\n",
        "n_train=100\n",
        "step = int(n_train/tau)\n",
        "online_loss_Adagrad = np.zeros((step,1))\n",
        "for i in range(1,step):\n",
        "  train = TargetData(i*tau)\n",
        "  train_iter = DataLoader(train, batch_size=1)\n",
        "  loss = train_net(net, train_iter, num_epochs, learning_rate,optimizer)\n",
        "  online_loss_Adagrad[i]=loss"
      ],
      "execution_count": 85,
      "outputs": [
        {
          "output_type": "stream",
          "text": [
            "Sequential size:  4\n",
            "Sequential size:  8\n",
            "Sequential size:  12\n",
            "Sequential size:  16\n",
            "Sequential size:  20\n",
            "Sequential size:  24\n",
            "Sequential size:  28\n",
            "Sequential size:  32\n",
            "Sequential size:  36\n",
            "Sequential size:  40\n",
            "Sequential size:  44\n",
            "Sequential size:  48\n",
            "Sequential size:  52\n",
            "Sequential size:  56\n",
            "Sequential size:  60\n",
            "Sequential size:  64\n",
            "Sequential size:  68\n",
            "Sequential size:  72\n",
            "Sequential size:  76\n",
            "Sequential size:  80\n",
            "Sequential size:  84\n",
            "Sequential size:  88\n",
            "Sequential size:  92\n",
            "Sequential size:  96\n"
          ],
          "name": "stdout"
        }
      ]
    },
    {
      "cell_type": "code",
      "metadata": {
        "id": "my6Vb34lITxj",
        "colab_type": "code",
        "colab": {}
      },
      "source": [
        "# Test value\n",
        "features = np.zeros((T-tau, tau))\n",
        "for i in range(tau):\n",
        "    features[:, i] = f[i: T-tau+i]\n",
        "labels = f[tau:]\n",
        "features[0]\n",
        "labels[0]\n",
        "net.eval()\n",
        "estimates_Adagrad = net(torch.tensor(features).float())\n",
        "estimates_Adagrad = estimates_Adagrad.detach().numpy().reshape(-1,)"
      ],
      "execution_count": 0,
      "outputs": []
    },
    {
      "cell_type": "code",
      "metadata": {
        "id": "m_CUa1EpIo8S",
        "colab_type": "code",
        "outputId": "67759b2b-b14f-479f-d69a-3a8563ace851",
        "colab": {
          "base_uri": "https://localhost:8080/",
          "height": 432
        }
      },
      "source": [
        "# Train with Nadam\n",
        "net = MLP(4)\n",
        "optimizer = Nadam(net.parameters(), lr = learning_rate)\n",
        "n_train=100\n",
        "step = int(n_train/tau)\n",
        "online_loss_Nadam = np.zeros((step,1))\n",
        "for i in range(1,step):\n",
        "  train = TargetData(i*tau)\n",
        "  train_iter = DataLoader(train, batch_size=1)\n",
        "  loss = train_net(net, train_iter, num_epochs, learning_rate,optimizer)\n",
        "  online_loss_Nadam[i]=loss"
      ],
      "execution_count": 87,
      "outputs": [
        {
          "output_type": "stream",
          "text": [
            "Sequential size:  4\n",
            "Sequential size:  8\n",
            "Sequential size:  12\n",
            "Sequential size:  16\n",
            "Sequential size:  20\n",
            "Sequential size:  24\n",
            "Sequential size:  28\n",
            "Sequential size:  32\n",
            "Sequential size:  36\n",
            "Sequential size:  40\n",
            "Sequential size:  44\n",
            "Sequential size:  48\n",
            "Sequential size:  52\n",
            "Sequential size:  56\n",
            "Sequential size:  60\n",
            "Sequential size:  64\n",
            "Sequential size:  68\n",
            "Sequential size:  72\n",
            "Sequential size:  76\n",
            "Sequential size:  80\n",
            "Sequential size:  84\n",
            "Sequential size:  88\n",
            "Sequential size:  92\n",
            "Sequential size:  96\n"
          ],
          "name": "stdout"
        }
      ]
    },
    {
      "cell_type": "code",
      "metadata": {
        "id": "_DoFK0XeWuNO",
        "colab_type": "code",
        "colab": {}
      },
      "source": [
        "# Test value\n",
        "features = np.zeros((T-tau, tau))\n",
        "for i in range(tau):\n",
        "    features[:, i] = f[i: T-tau+i]\n",
        "labels = f[tau:]\n",
        "features[0]\n",
        "labels[0]\n",
        "net.eval()\n",
        "estimates_Nadam = net(torch.tensor(features).float())\n",
        "estimates_Nadam = estimates_Nadam.detach().numpy().reshape(-1,)"
      ],
      "execution_count": 0,
      "outputs": []
    },
    {
      "cell_type": "code",
      "metadata": {
        "id": "6V7S6COCels_",
        "colab_type": "code",
        "outputId": "0e0b9014-d3ba-45a0-d25f-4a5c0b944b33",
        "colab": {
          "base_uri": "https://localhost:8080/",
          "height": 312
        }
      },
      "source": [
        "x_axis = range(0,step)\n",
        "# Plot loss value\n",
        "fig, ao = plt.subplots()\n",
        "ao.plot(x_axis, online_loss_SGD, label=\"SGD\")\n",
        "#ao.plot(x_axis, online_loss_NAG, label=\"NAG\")\n",
        "ao.plot(x_axis, online_loss_Mo, label=\"Momentum\")\n",
        "ao.plot(x_axis, online_loss_Adagrad, label=\"AdaGrad\")\n",
        "#ao.plot(x_axis, online_loss_RMS, label=\"RMSProp\")\n",
        "ao.plot(x_axis, online_loss_Adam, label=\"Adam\")\n",
        "#ao.plot(x_axis, online_loss_Nadam, label=\"Nadam\")\n",
        "ao.set_xlabel('ith sequential step')\n",
        "ao.set_ylabel('Loss')\n",
        "ao.set_title('Optimizers Loss (Synthetic Testing Dataset)')\n",
        "ao.legend()"
      ],
      "execution_count": 89,
      "outputs": [
        {
          "output_type": "execute_result",
          "data": {
            "text/plain": [
              "<matplotlib.legend.Legend at 0x7fa88ee99da0>"
            ]
          },
          "metadata": {
            "tags": []
          },
          "execution_count": 89
        },
        {
          "output_type": "display_data",
          "data": {
            "image/png": "[encoded data removed]",
            "text/plain": [
              "<Figure size 432x288 with 1 Axes>"
            ]
          },
          "metadata": {
            "tags": []
          }
        }
      ]
    },
    {
      "cell_type": "code",
      "metadata": {
        "id": "PIsHliQyJGWK",
        "colab_type": "code",
        "outputId": "dcca59a4-d93e-4ab7-d81f-d5681f5c4089",
        "colab": {
          "base_uri": "https://localhost:8080/",
          "height": 296
        }
      },
      "source": [
        "# Let's plot our estimates against the target function\n",
        "fig, ax = plt.subplots()\n",
        "ax.plot(time, f, label='data')\n",
        "#ax.plot(time[tau:], estimates_Nadam, label='Nadam estimate')\n",
        "#ax.plot(time[tau:], estimates_NAG, label='NAG estimate')\n",
        "ax.plot(time[tau:], estimates_Adam,label='ADAM estimate')\n",
        "#ax.plot(time[tau:], estimates_Mo, label='Momentum estimate')\n",
        "#ax.plot(time[tau:], estimates_RMS, label='RMSProp estimate')\n",
        "ax.plot(time[tau:], estimates_Adagrad, label='AdaGrad estimate')\n",
        "ax.plot(time[tau:], estimates_SGD, label='SGD estimate')\n",
        "handles, names = ax.get_legend_handles_labels()\n",
        "ax.set_xlabel('Time')\n",
        "ax.set_ylabel('Label')\n",
        "ax.legend(handles, names)"
      ],
      "execution_count": 92,
      "outputs": [
        {
          "output_type": "execute_result",
          "data": {
            "text/plain": [
              "<matplotlib.legend.Legend at 0x7fa88eccd2b0>"
            ]
          },
          "metadata": {
            "tags": []
          },
          "execution_count": 92
        },
        {
          "output_type": "display_data",
          "data": {
            "image/png": "[encoded data removed]",
            "text/plain": [
              "<Figure size 432x288 with 1 Axes>"
            ]
          },
          "metadata": {
            "tags": []
          }
        }
      ]
    },
    {
      "cell_type": "code",
      "metadata": {
        "id": "PiJ6jrXCk_Kj",
        "colab_type": "code",
        "outputId": "480ca5d9-5cfc-4ce4-98a3-295f9bf11fb5",
        "colab": {
          "base_uri": "https://localhost:8080/",
          "height": 296
        }
      },
      "source": [
        "# Let's plot our estimates against the target function\n",
        "fig, ax = plt.subplots()\n",
        "ax.plot(time, f, label='data')\n",
        "ax.plot(time[tau:], estimates_Mo, label='Momentum estimate')\n",
        "#ax.plot(time[tau:], estimates_RMS, label='RMSProp estimate')\n",
        "ax.plot(time[tau:], estimates_Nadam, label='Nadam estimate')\n",
        "ax.plot(time[tau:], estimates_NAG, label='NAG estimate')\n",
        "#ax.plot(time[tau:], estimates_Adam,label='ADAM estimate')\n",
        "handles, names = ax.get_legend_handles_labels()\n",
        "ax.set_xlabel('Time')\n",
        "ax.set_ylabel('Label')\n",
        "ax.legend(handles, names)"
      ],
      "execution_count": 91,
      "outputs": [
        {
          "output_type": "execute_result",
          "data": {
            "text/plain": [
              "<matplotlib.legend.Legend at 0x7fa88ed46630>"
            ]
          },
          "metadata": {
            "tags": []
          },
          "execution_count": 91
        },
        {
          "output_type": "display_data",
          "data": {
            "image/png": "[encoded data removed]",
            "text/plain": [
              "<Figure size 432x288 with 1 Axes>"
            ]
          },
          "metadata": {
            "tags": []
          }
        }
      ]
    },
    {
      "cell_type": "markdown",
      "metadata": {
        "id": "Rq1akV_3mmEJ",
        "colab_type": "text"
      },
      "source": [
        "PyTorch model original copyright (c) 2019 Yunjey Choi   \n",
        "Modifications copyright (c) 2019 Ted Willke"
      ]
    }
  ]
}